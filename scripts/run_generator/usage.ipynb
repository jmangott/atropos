{
 "cells": [
  {
   "cell_type": "markdown",
   "metadata": {},
   "source": [
    "# Usage of generator_class\n",
    "\n",
    "Here we will describe different ways on how to use generator_class to generate models, set up our tree with initial conditions and run the hierarchical cme code.\n",
    "For that we will consider the bax example.\n",
    "\n",
    "## Model generation\n",
    "\n",
    "Before we can generate our model, we need to import the necessary libraries and define our Sympy variables."
   ]
  },
  {
   "cell_type": "code",
   "execution_count": 1,
   "metadata": {},
   "outputs": [],
   "source": [
    "from scripts.generator_class import Model, Partitioning, run\n",
    "import numpy as np\n",
    "import sympy as sp\n",
    "\n",
    "S0, S1, S2, S3, S4, S5, S6, S7, S8, S9, S10 = sp.symbols(\"S0, S1, S2, S3, S4, S5, S6, S7, S8, S9, S10\")"
   ]
  },
  {
   "cell_type": "markdown",
   "metadata": {},
   "source": [
    "Next we initialize our model and define parameters used in our propensities."
   ]
  },
  {
   "cell_type": "code",
   "execution_count": 2,
   "metadata": {},
   "outputs": [],
   "source": [
    "model = Model((S0, S1, S2, S3, S4, S5, S6, S7, S8, S9, S10))\n",
    "\n",
    "kA0 = 0.0002\n",
    "kA1 = 0.001\n",
    "kA2 = 0.0002\n",
    "kA3 = 0.001\n",
    "kA4 = 0.0002\n",
    "kA5 = 0.001\n",
    "kA6 = 0.0002\n",
    "kA7 = 0.001\n",
    "kA8 = 0.0002\n",
    "kA9 = 0.001\n",
    "\n",
    "kA10 = 3.0e-5\n",
    "kA11 = 0.001\n",
    "kA12 = 10.0\n",
    "kA13 = 3.0e-5\n",
    "kA14 = 0.001\n",
    "kA15 = 10.0\n",
    "kA16 = 3.0e-5\n",
    "kA17 = 0.001\n",
    "kA18 = 10.0"
   ]
  },
  {
   "cell_type": "markdown",
   "metadata": {},
   "source": [
    "Now there are 3 different ways to add reactions to our equation (only one of those should be run).\n",
    "\n",
    "We will first look at the most simple way, where we add a reaction by giving the parameters reactants, products and propensities."
   ]
  },
  {
   "cell_type": "code",
   "execution_count": 3,
   "metadata": {},
   "outputs": [],
   "source": [
    "model.add_reaction(2*S0, S1, {S0: 0.5 * kA0 * S0 * (S0 - 1.0)})\n",
    "model.add_reaction(S1, 2*S0, {S1: kA1 * S1})\n",
    "model.add_reaction(S0 + S1, S2, {S0: np.sqrt(kA2) * S0, S1: np.sqrt(kA2) * S1})\n",
    "model.add_reaction(S2, S0 + S1, {S2: kA3 * S2})\n",
    "model.add_reaction(S0 + S2, S3, {S0: np.sqrt(kA4) * S0, S2: np.sqrt(kA4) * S2})\n",
    "model.add_reaction(S3, S0 + S2, {S3: kA5 * S3})\n",
    "model.add_reaction(S0 + S3, S4, {S0: np.sqrt(kA6) * S0, S3: np.sqrt(kA6) * S3})\n",
    "model.add_reaction(S4, S0 + S3, {S4: kA7 * S4})\n",
    "model.add_reaction(S0 + S4, S5, {S0: np.sqrt(kA8) * S0, S4: np.sqrt(kA8) * S4})\n",
    "model.add_reaction(S5, S0 + S4, {S5: kA9 * S5})\n",
    "model.add_reaction(S3 + S9, S6, {S3: np.sqrt(kA10) * S3, S9: np.sqrt(kA10) * S9})\n",
    "model.add_reaction(S6, S3 + S9, {S6: kA11 * S6})\n",
    "model.add_reaction(S6, S3 + S10, {S6: kA12 * S6})\n",
    "model.add_reaction(S4 + S9, S7, {S4: np.sqrt(kA13) * S4, S9: np.sqrt(kA13) * S9})\n",
    "model.add_reaction(S7, S4 + S9, {S7: kA14 * S7})\n",
    "model.add_reaction(S7, S4 + S10, {S7: kA15 * S7})\n",
    "model.add_reaction(S5 + S9, S8, {S5: np.sqrt(kA16) * S5, S9: np.sqrt(kA16) * S9})\n",
    "model.add_reaction(S8, S5 + S9, {S8: kA17 * S8})\n",
    "model.add_reaction(S8, S5 + S10, {S8: kA18 * S8})"
   ]
  },
  {
   "cell_type": "markdown",
   "metadata": {},
   "source": [
    "If we have standard propensities (like it is the case in this example), it is also enough to just give the coefficient insted of the propensity dictionary."
   ]
  },
  {
   "cell_type": "code",
   "execution_count": null,
   "metadata": {},
   "outputs": [],
   "source": [
    "model.add_reaction(2*S0, S1, kA0)\n",
    "model.add_reaction(S1, 2*S0, kA1)\n",
    "model.add_reaction(S0 + S1, S2, kA2)\n",
    "model.add_reaction(S2, S0 + S1, kA3)\n",
    "model.add_reaction(S0 + S2, S3, kA4)\n",
    "model.add_reaction(S3, S0 + S2, kA5)\n",
    "model.add_reaction(S0 + S3, S4, kA6)\n",
    "model.add_reaction(S4, S0 + S3, kA7)\n",
    "model.add_reaction(S0 + S4, S5, kA8)\n",
    "model.add_reaction(S5, S0 + S4, kA9)\n",
    "model.add_reaction(S3 + S9, S6, kA10)\n",
    "model.add_reaction(S6, S3 + S9, kA11)\n",
    "model.add_reaction(S6, S3 + S10, kA12)\n",
    "model.add_reaction(S4 + S9, S7, kA13)\n",
    "model.add_reaction(S7, S4 + S9, kA14)\n",
    "model.add_reaction(S7, S4 + S10, kA15)\n",
    "model.add_reaction(S5 + S9, S8, kA16)\n",
    "model.add_reaction(S8, S5 + S9, kA17)\n",
    "model.add_reaction(S8, S5 + S10, kA18)"
   ]
  },
  {
   "cell_type": "markdown",
   "metadata": {},
   "source": [
    "Another possibility is to add multiple reactions in 1 line. For that we use add_reactions and as parameters a list of reactants, products and propensities (or coefficients). E.g. we could add the first three reactions from above in the following way."
   ]
  },
  {
   "cell_type": "code",
   "execution_count": null,
   "metadata": {},
   "outputs": [],
   "source": [
    "model.add_reactions([2*S0, S1, S0 + S1], [S1, 2*S0, S2], [kA0, kA1, kA2])"
   ]
  },
  {
   "cell_type": "markdown",
   "metadata": {},
   "source": [
    "After we have added all our reactions, we need to generate the reactions system."
   ]
  },
  {
   "cell_type": "code",
   "execution_count": 4,
   "metadata": {},
   "outputs": [],
   "source": [
    "model.generate_reaction_system()"
   ]
  },
  {
   "cell_type": "markdown",
   "metadata": {},
   "source": [
    "## Tree generation and initial condition\n",
    "\n",
    "First we need to initialize our partitioning by inputting our rank as an array and our partition as a string."
   ]
  },
  {
   "cell_type": "code",
   "execution_count": 5,
   "metadata": {},
   "outputs": [],
   "source": [
    "r = np.array([5,4,3])\n",
    "p0 = '(S0 S1 S2)(((S3 S4 S6 S7)(S5 S8))(S9 S10))'\n",
    "partitioning = Partitioning(p0, r, model)"
   ]
  },
  {
   "cell_type": "markdown",
   "metadata": {},
   "source": [
    "Next we can add our grid parameters."
   ]
  },
  {
   "cell_type": "code",
   "execution_count": 6,
   "metadata": {},
   "outputs": [],
   "source": [
    "n = np.array([46, 16, 16, 11, 11, 11, 4, 4, 4, 56, 56])\n",
    "d = n.size\n",
    "binsize = np.ones(d, dtype=int)\n",
    "liml = np.zeros(d)\n",
    "partitioning.add_grid_params(n, binsize, liml)"
   ]
  },
  {
   "cell_type": "markdown",
   "metadata": {},
   "source": [
    "Now we need to generate the tree."
   ]
  },
  {
   "cell_type": "code",
   "execution_count": 7,
   "metadata": {},
   "outputs": [],
   "source": [
    "partitioning.generate_tree()"
   ]
  },
  {
   "cell_type": "markdown",
   "metadata": {},
   "source": [
    "Next we will generate our inital condition."
   ]
  },
  {
   "cell_type": "code",
   "execution_count": 8,
   "metadata": {},
   "outputs": [],
   "source": [
    "n_basisfunctions = np.ones(r.size, dtype=\"int\")\n",
    "\n",
    "partitioning.generate_initial_condition(n_basisfunctions)"
   ]
  },
  {
   "cell_type": "markdown",
   "metadata": {},
   "source": [
    "To set the values we have two options. We can either use the pre implemented function set_initial_condition (if possible), or do it by ourself.\n",
    "\n",
    "In this example we use the pre implemented function."
   ]
  },
  {
   "cell_type": "code",
   "execution_count": 9,
   "metadata": {},
   "outputs": [],
   "source": [
    "C = 0.2\n",
    "Cinv = 1 / C\n",
    "mu = np.array([40, 0, 0, 0, 0, 0, 0, 0, 0, 50, 0])\n",
    "mu_perm = mu[partitioning.tree.species]\n",
    "\n",
    "polynomials_dict = {S0: sp.exp(-0.5 * Cinv * (S0 - mu_perm[0])**2), S1: sp.exp(-0.5 * Cinv * (S1 - mu_perm[1])**2), S2: sp.exp(-0.5 * Cinv * (S2 - mu_perm[2])**2),\n",
    "                     S3: sp.exp(-0.5 * Cinv * (S3 - mu_perm[3])**2), S4: sp.exp(-0.5 * Cinv * (S4 - mu_perm[4])**2), S5: sp.exp(-0.5 * Cinv * (S5 - mu_perm[5])**2),\n",
    "                       S6: sp.exp(-0.5 * Cinv * (S6 - mu_perm[6])**2), S7: sp.exp(-0.5 * Cinv * (S7 - mu_perm[7])**2), S8: sp.exp(-0.5 * Cinv * (S8 - mu_perm[8])**2),\n",
    "                         S9: sp.exp(-0.5 * Cinv * (S9 - mu_perm[9])**2), S10: sp.exp(-0.5 * Cinv * (S10 - mu_perm[10])**2)}\n",
    "partitioning.set_initial_condition(polynomials_dict)"
   ]
  },
  {
   "cell_type": "markdown",
   "metadata": {},
   "source": [
    "For this example we will normalize some values and output our tree."
   ]
  },
  {
   "cell_type": "code",
   "execution_count": 10,
   "metadata": {},
   "outputs": [
    {
     "name": "stdout",
     "output_type": "stream",
     "text": [
      "norm: 2.7581439176136247\n",
      " <class 'scripts.tree_class.InternalNode'> id: root n: [46 16 16 11 11  4  4 11  4 56 56] species: [ 0  1  2  3  4  6  7  5  8  9 10] Q.shape: (5, 5, 1) \n",
      " <class 'scripts.tree_class.ExternalNode'> id: 0 n: [46 16 16] species: [0 1 2] X.shape: (11776, 1) \n",
      " <class 'scripts.tree_class.InternalNode'> id: 1 n: [11 11  4  4 11  4 56 56] species: [ 3  4  6  7  5  8  9 10] Q.shape: (4, 4, 1) \n",
      " <class 'scripts.tree_class.InternalNode'> id: 10 n: [11 11  4  4 11  4] species: [3 4 6 7 5 8] Q.shape: (3, 3, 1) \n",
      " <class 'scripts.tree_class.ExternalNode'> id: 100 n: [11 11  4  4] species: [3 4 6 7] X.shape: (1936, 1) \n",
      " <class 'scripts.tree_class.ExternalNode'> id: 101 n: [11  4] species: [5 8] X.shape: (44, 1) \n",
      " <class 'scripts.tree_class.ExternalNode'> id: 11 n: [56 56] species: [ 9 10] X.shape: (3136, 1) \n",
      "\n"
     ]
    }
   ],
   "source": [
    "_, marginal_distribution = partitioning.tree.calculateObservables(np.zeros(partitioning.tree.root.grid.d(), dtype=\"int\"))\n",
    "norm = np.sum(marginal_distribution[0])\n",
    "print(\"norm:\", norm)\n",
    "partitioning.tree.root.Q[0, 0, 0] /= norm\n",
    "\n",
    "print(partitioning.tree)"
   ]
  },
  {
   "cell_type": "markdown",
   "metadata": {},
   "source": [
    "## Running the code\n",
    "\n",
    "The last step is to run the code. For that we will use the function run.\n",
    "\n",
    "The parameters are: partitioning, output name, number of snapshots, timestep size, final time, substeps and the method.\n",
    "\n",
    "For method one can choose: implicit_Euler, explicit_Euler, Crank-Nicolson, RK4. If no input is given, implicit_Euler will be used."
   ]
  },
  {
   "cell_type": "code",
   "execution_count": 11,
   "metadata": {},
   "outputs": [
    {
     "name": "stdout",
     "output_type": "stream",
     "text": [
      "external_node, id: 0, species: [0, 1, 2], X.shape(): (11776,5)\n",
      "external_node, id: 100, species: [3, 4, 6, 7], X.shape(): (1936,3)\n",
      "external_node, id: 101, species: [5, 8], X.shape(): (44,3)\n",
      "internal_node, id: 10, species: [3, 4, 6, 7, 5, 8], rank_out: (3,3)\n",
      "external_node, id: 11, species: [9, 10], X.shape(): (3136,4)\n",
      "internal_node, id: 1, species: [3, 4, 6, 7, 5, 8, 9, 10], rank_out: (4,4)\n",
      "internal_node, id: root, species: [0, 1, 2, 3, 4, 6, 7, 5, 8, 9, 10], rank_out: (5,5)\n",
      "Norm: 1\n",
      "[##############################], step: 1000/1000, time per step: 0.06s, time left: 00:00:00, progress: 100.00%, |norm(P)-1|: 7.44e-07\n",
      "\n",
      "TIMER RESULTS\n",
      "-------------\n",
      "                                    main     5.9083e+01              1     5.9083e+01     0.0000e+00\n",
      "                                External     5.1169e+01           4000     1.2792e-02     1.2852e+00\n",
      "                             Integrate K     5.0496e+01           4000     1.2624e-02     1.2852e+00\n",
      "                           CalculateKDot     4.5582e+01          22675     2.0102e-03     1.2021e+00\n",
      "                               ShiftKDot     1.2094e+01         430825     2.8071e-05     1.1154e+00\n",
      "                         CalculateAB_bar     7.4010e+00           6000     1.2335e-03     1.6059e+00\n",
      "                                      gs     5.6994e-01          12000     4.7495e-05     2.5606e+00\n",
      "                             CalculateAB     1.3636e-01           6000     2.2727e-05     3.1033e-01\n",
      "                             CalculateGH     7.5712e-02           3000     2.5237e-05     5.7578e-01\n",
      "                                       S     5.4891e-02           6000     9.1485e-06     4.7946e-01\n",
      "                             CalculateEF     3.7147e-02           6000     6.1912e-06     5.7071e-01\n",
      "                                Internal     1.0594e-02           4000     2.6486e-06     5.5608e-01\n",
      "                                 Mat/Ten     7.8616e-03          22000     3.5734e-07     7.7899e-01\n",
      "                             Integrate S     6.8707e-03           6000     1.1451e-06     5.8353e-01\n",
      "                             Integrate Q     6.0967e-03           3000     2.0322e-06     5.9058e-01\n",
      "DIAGNOSTICS\n",
      "-----------\n",
      "Time elapsed: 0h 0mins 59s 82ms\n",
      "Integration method (K): implicit_euler (1 substeps)\n",
      "Integration method (S): explicit_euler (1 substeps)\n",
      "Integration method (Q): explicit_euler (1 substeps)\n",
      "Time step size: 0.001\n",
      "max(norm - 1.0): -2.36229e-05\n",
      "[OpenMP not activated]\n",
      "-----------\n",
      "\n"
     ]
    }
   ],
   "source": [
    "run(partitioning, 'bax_Stefan', 10, 1e-3, 1, 1, \"implicit_Euler\")"
   ]
  }
 ],
 "metadata": {
  "kernelspec": {
   "display_name": "my_venv",
   "language": "python",
   "name": "python3"
  },
  "language_info": {
   "codemirror_mode": {
    "name": "ipython",
    "version": 3
   },
   "file_extension": ".py",
   "mimetype": "text/x-python",
   "name": "python",
   "nbconvert_exporter": "python",
   "pygments_lexer": "ipython3",
   "version": "3.12.2"
  }
 },
 "nbformat": 4,
 "nbformat_minor": 2
}
