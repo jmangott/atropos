{
 "cells": [
  {
   "cell_type": "markdown",
   "metadata": {},
   "source": [
    "# Boolean pancreatic cancer"
   ]
  },
  {
   "cell_type": "code",
   "execution_count": null,
   "metadata": {},
   "outputs": [],
   "source": [
    "import matplotlib.gridspec as gridspec\n",
    "import matplotlib.pyplot as plt\n",
    "import numpy as np\n",
    "\n",
    "from scripts.grid_class import GridParms\n",
    "from scripts.tree_class import Tree\n",
    "from scripts.notebooks.output_helper import *\n",
    "\n",
    "plt.style.use(\"./scripts/notebooks/custom_style.mplstyle\")\n",
    "%matplotlib inline"
   ]
  },
  {
   "cell_type": "markdown",
   "metadata": {},
   "source": [
    "## Load initial data"
   ]
  },
  {
   "cell_type": "markdown",
   "metadata": {},
   "source": [
    "### Plots"
   ]
  },
  {
   "cell_type": "markdown",
   "metadata": {},
   "source": [
    "#### Error between TTN integrator and the matrix integrator reference solution"
   ]
  },
  {
   "cell_type": "code",
   "execution_count": null,
   "metadata": {},
   "outputs": [],
   "source": [
    "time_series = TimeSeries(\"output/pancreatic_new_p4_r5_e_tau1e-2\")\n",
    "time = time_series.time\n",
    "moments_new_p4_r5 = time_series.calculateMoments()"
   ]
  },
  {
   "cell_type": "code",
   "execution_count": null,
   "metadata": {},
   "outputs": [],
   "source": [
    "time_series = TimeSeries(\"output/pancreatic_new_p4_r10_e_tau1e-2\")\n",
    "time = time_series.time\n",
    "moments_new_p4_r10 = time_series.calculateMoments()"
   ]
  },
  {
   "cell_type": "code",
   "execution_count": null,
   "metadata": {},
   "outputs": [],
   "source": [
    "time_series = TimeSeries(\"output/pancreatic_new_p4_r20_e_tau1e-2\")\n",
    "time = time_series.time\n",
    "moments_new_p4_r20 = time_series.calculateMoments()"
   ]
  },
  {
   "cell_type": "code",
   "execution_count": null,
   "metadata": {},
   "outputs": [],
   "source": [
    "time_series = TimeSeries(\"output/pancreatic_new_p5_r5_e_tau1e-2\")\n",
    "time = time_series.time\n",
    "moments_new_p5_r5 = time_series.calculateMoments()"
   ]
  },
  {
   "cell_type": "code",
   "execution_count": null,
   "metadata": {},
   "outputs": [],
   "source": [
    "time_series = TimeSeries(\"output/pancreatic_new_p5_r10_e_tau1e-2\")\n",
    "time = time_series.time\n",
    "moments_new_p5_r10 = time_series.calculateMoments()"
   ]
  },
  {
   "cell_type": "code",
   "execution_count": null,
   "metadata": {},
   "outputs": [],
   "source": [
    "time_series = TimeSeries(\"output/pancreatic_new_p5_r20_e_tau1e-2\")\n",
    "time = time_series.time\n",
    "moments_new_p5_r20 = time_series.calculateMoments()"
   ]
  },
  {
   "cell_type": "code",
   "execution_count": null,
   "metadata": {},
   "outputs": [],
   "source": [
    "time_series = TimeSeries(\"output/pancreatic_new_p6_r5_e_tau1e-2\")\n",
    "time = time_series.time\n",
    "moments_new_p6_r5 = time_series.calculateMoments()"
   ]
  },
  {
   "cell_type": "code",
   "execution_count": null,
   "metadata": {},
   "outputs": [],
   "source": [
    "time_series = TimeSeries(\"output/pancreatic_new_p6_r10_e_tau1e-2\")\n",
    "time = time_series.time\n",
    "moments_new_p6_r10 = time_series.calculateMoments()"
   ]
  },
  {
   "cell_type": "code",
   "execution_count": null,
   "metadata": {},
   "outputs": [],
   "source": [
    "time_series = TimeSeries(\"output/pancreatic_new_p6_r20_e_tau1e-2\")\n",
    "time = time_series.time\n",
    "moments_new_p6_r20 = time_series.calculateMoments()"
   ]
  },
  {
   "cell_type": "code",
   "execution_count": null,
   "metadata": {},
   "outputs": [],
   "source": [
    "reference = np.load(\"scripts/reference_solutions/pancreatic_r50.npy\")"
   ]
  },
  {
   "cell_type": "code",
   "execution_count": null,
   "metadata": {},
   "outputs": [],
   "source": [
    "fig, axs = plt.subplots(6, 6, figsize=(15, 15))\n",
    "\n",
    "names = time_series.getSpeciesNames()\n",
    "names_lower = np.array([name.lower() for name in names])\n",
    "names = names[np.argsort(names_lower)]\n",
    "for i, ax in enumerate(axs.flatten()):\n",
    "    if i < 34:\n",
    "        ax.plot(np.arange(reference.shape[1]), reference[i, :], \"k.-\", label=\"reference\")\n",
    "        ax.plot(time, moments_new_p4_r5[0][names[i]], \"-\", label=\"best, $r=5$\")\n",
    "        ax.plot(time, moments_new_p4_r10[0][names[i]], \"-\", label=\"best, $r=10$\")\n",
    "        ax.plot(time, moments_new_p4_r20[0][names[i]], \"-\", label=\"best, $r=20$\")\n",
    "        ax.plot(time, moments_new_p6_r5[0][names[i]], \":\", label=\"reasonable, $r=5$\")\n",
    "        ax.plot(time, moments_new_p6_r10[0][names[i]], \":\", label=\"reasonable, $r=10$\")\n",
    "        ax.plot(time, moments_new_p6_r20[0][names[i]], \":\", label=\"reasonable, $r=20$\")\n",
    "        ax.plot(time, moments_new_p5_r5[0][names[i]], \"-.\", label=\"worst, $r=5$\")\n",
    "        ax.plot(time, moments_new_p5_r10[0][names[i]], \"-.\", label=\"worst, $r=10$\")\n",
    "        ax.plot(time, moments_new_p5_r20[0][names[i]], \"-.\", label=\"worst, $r=20$\")\n",
    "        ax.set_title(names[i])\n",
    "h, l = axs[0, 0].get_legend_handles_labels()\n",
    "axs[-1, -1].legend(h, l)\n",
    "plt.setp(axs, ylim=[-0.05, 1.05]);\n",
    "plt.tight_layout()\n",
    "plt.savefig(\"plots/pancreatic_moments.pdf\")"
   ]
  }
 ],
 "metadata": {
  "kernelspec": {
   "display_name": "base",
   "language": "python",
   "name": "python3"
  },
  "language_info": {
   "codemirror_mode": {
    "name": "ipython",
    "version": 3
   },
   "file_extension": ".py",
   "mimetype": "text/x-python",
   "name": "python",
   "nbconvert_exporter": "python",
   "pygments_lexer": "ipython3",
   "version": "3.10.14"
  }
 },
 "nbformat": 4,
 "nbformat_minor": 2
}
