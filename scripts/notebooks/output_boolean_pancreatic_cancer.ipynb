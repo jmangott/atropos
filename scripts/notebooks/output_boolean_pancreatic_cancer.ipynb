{
 "cells": [
  {
   "cell_type": "markdown",
   "metadata": {},
   "source": [
    "# Boolean pancreatic cancer"
   ]
  },
  {
   "cell_type": "code",
   "execution_count": null,
   "metadata": {},
   "outputs": [],
   "source": [
    "import matplotlib.pyplot as plt\n",
    "import networkx as nx\n",
    "import numpy as np\n",
    "\n",
    "import scripts.boolean_helper\n",
    "from scripts.grid_class import GridParms\n",
    "from scripts.tree_class import Tree, plotReactionGraph\n",
    "from scripts.notebooks.output_helper import *\n",
    "\n",
    "reaction_system = scripts.boolean_helper.convertRulesToReactions(\"scripts/models/boolean_rulefiles/pancreatic_cancer.hpp\")\n",
    "\n",
    "plt.style.use(\"./scripts/notebooks/custom_style_boolean.mplstyle\")\n",
    "%matplotlib inline"
   ]
  },
  {
   "cell_type": "code",
   "execution_count": null,
   "metadata": {},
   "outputs": [],
   "source": [
    "colors = plt.rcParams['axes.prop_cycle'].by_key()['color']\n",
    "seed = 5"
   ]
  },
  {
   "cell_type": "markdown",
   "metadata": {},
   "source": [
    "## Entropy, cuts and graphs"
   ]
  },
  {
   "cell_type": "code",
   "execution_count": null,
   "metadata": {},
   "outputs": [],
   "source": [
    "# Best\n",
    "tree = readTree(\"output/pancreatic_pbn_r5_e_tau1e-2/output_t0.nc\")\n",
    "r_out = np.ones(tree.n_internal_nodes, dtype=\"int\") * 5\n",
    "tree.initialize(reaction_system, r_out)\n",
    " \n",
    "plotReactionGraph(tree.G, \"plots/pancreatic_graph_best.pdf\", colors[2], seed=seed)\n",
    "printEntropyCuts(tree)"
   ]
  },
  {
   "cell_type": "code",
   "execution_count": null,
   "metadata": {},
   "outputs": [],
   "source": [
    "# Reasonable\n",
    "tree = readTree(\"output/pancreatic_prn_r5_e_tau1e-2/output_t0.nc\")\n",
    "r_out = np.ones(tree.n_internal_nodes, dtype=\"int\") * 5\n",
    "tree.initialize(reaction_system, r_out)\n",
    "\n",
    "plotReactionGraph(tree.G, \"plots/pancreatic_graph_reasonable.pdf\", colors[0], seed=seed)\n",
    "printEntropyCuts(tree)"
   ]
  },
  {
   "cell_type": "code",
   "execution_count": null,
   "metadata": {},
   "outputs": [],
   "source": [
    "# Worst\n",
    "tree = readTree(\"output/pancreatic_pwn_r5_e_tau1e-2/output_t0.nc\")\n",
    "r_out = np.ones(tree.n_internal_nodes, dtype=\"int\") * 5\n",
    "tree.initialize(reaction_system, r_out)\n",
    "\n",
    "plotReactionGraph(tree.G, \"plots/pancreatic_graph_worst.pdf\", colors[1], seed=seed)\n",
    "printEntropyCuts(tree)"
   ]
  },
  {
   "cell_type": "markdown",
   "metadata": {},
   "source": [
    "## Load initial data"
   ]
  },
  {
   "cell_type": "markdown",
   "metadata": {},
   "source": [
    "### Best"
   ]
  },
  {
   "cell_type": "code",
   "execution_count": null,
   "metadata": {},
   "outputs": [],
   "source": [
    "time_series = TimeSeries(\"output/pancreatic_pbn_r5_e_tau1e-2\")\n",
    "time = time_series.time\n",
    "moments_pb_r5 = time_series.calculateMoments()"
   ]
  },
  {
   "cell_type": "code",
   "execution_count": null,
   "metadata": {},
   "outputs": [],
   "source": [
    "time_series = TimeSeries(\"output/pancreatic_pbn_r10_e_tau1e-2\")\n",
    "time = time_series.time\n",
    "moments_pb_r10 = time_series.calculateMoments()"
   ]
  },
  {
   "cell_type": "code",
   "execution_count": null,
   "metadata": {},
   "outputs": [],
   "source": [
    "time_series = TimeSeries(\"output/pancreatic_pbn_r20_e_tau1e-2\")\n",
    "time = time_series.time\n",
    "moments_pb_r20 = time_series.calculateMoments()"
   ]
  },
  {
   "cell_type": "markdown",
   "metadata": {},
   "source": [
    "### Reasonable"
   ]
  },
  {
   "cell_type": "code",
   "execution_count": null,
   "metadata": {},
   "outputs": [],
   "source": [
    "time_series = TimeSeries(\"output/pancreatic_prn_r5_e_tau1e-2\")\n",
    "time = time_series.time\n",
    "moments_pr_r5 = time_series.calculateMoments()"
   ]
  },
  {
   "cell_type": "code",
   "execution_count": null,
   "metadata": {},
   "outputs": [],
   "source": [
    "time_series = TimeSeries(\"output/pancreatic_prn_r10_e_tau1e-2\")\n",
    "time = time_series.time\n",
    "moments_pr_r10 = time_series.calculateMoments()"
   ]
  },
  {
   "cell_type": "code",
   "execution_count": null,
   "metadata": {},
   "outputs": [],
   "source": [
    "time_series = TimeSeries(\"output/pancreatic_prn_r20_e_tau1e-2\")\n",
    "time = time_series.time\n",
    "moments_pr_r20 = time_series.calculateMoments()"
   ]
  },
  {
   "cell_type": "markdown",
   "metadata": {},
   "source": [
    "### Worst"
   ]
  },
  {
   "cell_type": "code",
   "execution_count": null,
   "metadata": {},
   "outputs": [],
   "source": [
    "time_series = TimeSeries(\"output/pancreatic_pwn_r5_e_tau1e-2\")\n",
    "time = time_series.time\n",
    "moments_pw_r5 = time_series.calculateMoments()"
   ]
  },
  {
   "cell_type": "code",
   "execution_count": null,
   "metadata": {},
   "outputs": [],
   "source": [
    "time_series = TimeSeries(\"output/pancreatic_pwn_r10_e_tau1e-2\")\n",
    "time = time_series.time\n",
    "moments_pw_r10 = time_series.calculateMoments()"
   ]
  },
  {
   "cell_type": "code",
   "execution_count": null,
   "metadata": {},
   "outputs": [],
   "source": [
    "time_series = TimeSeries(\"output/pancreatic_pwn_r20_e_tau1e-2\")\n",
    "time = time_series.time\n",
    "moments_pw_r20 = time_series.calculateMoments()"
   ]
  },
  {
   "cell_type": "markdown",
   "metadata": {},
   "source": [
    "### Reference solution"
   ]
  },
  {
   "cell_type": "code",
   "execution_count": null,
   "metadata": {},
   "outputs": [],
   "source": [
    "# reference = np.load(\"scripts/reference_solutions/pancreatic_r50.npy\")\n",
    "\n",
    "time_series = TimeSeries(\"output/pancreatic_pbn_r50_e_tau5e-3\")\n",
    "time = time_series.time\n",
    "reference = time_series.calculateMoments()"
   ]
  },
  {
   "cell_type": "code",
   "execution_count": null,
   "metadata": {},
   "outputs": [],
   "source": [
    "time_series = TimeSeries(\"output/pancreatic_pbn_r60_e_tau5e-3\")\n",
    "time = time_series.time\n",
    "reference_r60 = time_series.calculateMoments()"
   ]
  },
  {
   "cell_type": "markdown",
   "metadata": {},
   "source": [
    "## Plots"
   ]
  },
  {
   "cell_type": "code",
   "execution_count": null,
   "metadata": {},
   "outputs": [],
   "source": [
    "names = time_series.getSpeciesNames()\n",
    "names_lower = np.array([name.lower() for name in names])\n",
    "names = names[np.argsort(names_lower)]"
   ]
  },
  {
   "cell_type": "code",
   "execution_count": null,
   "metadata": {},
   "outputs": [],
   "source": [
    "fig, axs = plt.subplots(6, 6, figsize=(15, 15))\n",
    "\n",
    "for i, ax in enumerate(axs.flatten()):\n",
    "    if i < 34:\n",
    "        ax.plot(time, reference[0][names[i]]-reference_r60[0][names[i]], \".-\")\n",
    "        ax.set_title(names[i])\n",
    "axs[-1, -2].axis(\"off\")\n",
    "axs[-1, -1].axis(\"off\")\n",
    "plt.tight_layout()\n",
    "plt.savefig(\"plots/pancreatic_reference_solution.pdf\")"
   ]
  },
  {
   "cell_type": "markdown",
   "metadata": {},
   "source": [
    "### Comparison for all species"
   ]
  },
  {
   "cell_type": "code",
   "execution_count": null,
   "metadata": {},
   "outputs": [],
   "source": [
    "fig, axs = plt.subplots(6, 6, figsize=(15, 15))\n",
    "\n",
    "for i, ax in enumerate(axs.flatten()):\n",
    "    if i < 34:\n",
    "        ax.plot(time, reference[0][names[i]], \"k.-\", label=\"reference\")\n",
    "        ax.plot(time, moments_pb_r5[0][names[i]], \":\", color=colors[2], label=\"best, $r=5$\")\n",
    "        ax.plot(time, moments_pb_r10[0][names[i]], \"--\", color=colors[2], label=\"best, $r=10$\")\n",
    "        ax.plot(time, moments_pb_r20[0][names[i]], \"-\", color=colors[2], label=\"best, $r=20$\")\n",
    "        ax.plot(time, moments_pr_r5[0][names[i]], \":\", color=colors[0], label=\"reasonable, $r=5$\")\n",
    "        ax.plot(time, moments_pr_r10[0][names[i]], \"--\", color=colors[0], label=\"reasonable, $r=10$\")\n",
    "        ax.plot(time, moments_pr_r20[0][names[i]], \"-\", color=colors[0], label=\"reasonable, $r=20$\")\n",
    "        ax.plot(time, moments_pw_r5[0][names[i]], \":\", color=colors[1], label=\"worst, $r=5$\")\n",
    "        ax.plot(time, moments_pw_r10[0][names[i]], \"--\", color=colors[1], label=\"worst, $r=10$\")\n",
    "        ax.plot(time, moments_pw_r20[0][names[i]], \"-\", color=colors[1], label=\"worst, $r=20$\")\n",
    "        ax.set_title(names[i])\n",
    "h, l = axs[0, 0].get_legend_handles_labels()\n",
    "axs[-1, -2].legend(h[::3], [\"reference\", \"best\", \"reasonable\", \"worst\"], loc=\"center left\")\n",
    "axs[-1, -2].axis('off')\n",
    "axs[-1, -1].axis('off')\n",
    "plt.setp(axs, ylim=[-0.05, 1.05])\n",
    "plt.tight_layout()\n",
    "plt.savefig(\"plots/pancreatic_moments.pdf\")"
   ]
  },
  {
   "cell_type": "markdown",
   "metadata": {},
   "source": [
    "### Comparison for five relevant species"
   ]
  },
  {
   "cell_type": "code",
   "execution_count": null,
   "metadata": {},
   "outputs": [],
   "source": [
    "fig, axs = plt.subplots(2, 3, figsize=(8, 5.5))\n",
    "relevant_species = [1, 3, 20, 22, 25]\n",
    "linestyles = [':', \"--\", \"-\"]\n",
    "\n",
    "ax = axs.flatten()\n",
    "for ax_i, i in enumerate(relevant_species):\n",
    "    if i < 34:\n",
    "        l0, = ax[ax_i].plot(time, reference_r60[0][names[i]], \"k.-\", label=\"reference\")\n",
    "        ax[ax_i].plot(time, moments_pb_r5[0][names[i]], ls=linestyles[0], color=colors[2], label=\"best, $r=5$\")\n",
    "        ax[ax_i].plot(time, moments_pb_r10[0][names[i]], ls=linestyles[1], color=colors[2], label=\"best, $r=10$\")\n",
    "        l1, = ax[ax_i].plot(time, moments_pb_r20[0][names[i]], ls=linestyles[2], color=colors[2], label=\"best, $r=20$\")\n",
    "        ax[ax_i].plot(time, moments_pr_r5[0][names[i]], ls=linestyles[0], color=colors[0], label=\"reasonable, $r=5$\")\n",
    "        ax[ax_i].plot(time, moments_pr_r10[0][names[i]], ls=linestyles[1], color=colors[0], label=\"reasonable, $r=10$\")\n",
    "        l2, = ax[ax_i].plot(time, moments_pr_r20[0][names[i]], ls=linestyles[2], color=colors[0], label=\"reasonable, $r=20$\")\n",
    "        ax[ax_i].plot(time, moments_pw_r5[0][names[i]], ls=linestyles[0], color=colors[1], label=\"worst, $r=5$\")\n",
    "        ax[ax_i].plot(time, moments_pw_r10[0][names[i]], ls=linestyles[1], color=colors[1], label=\"worst, $r=10$\")\n",
    "        l3, = ax[ax_i].plot(time, moments_pw_r20[0][names[i]], ls=linestyles[2], color=colors[1], label=\"worst, $r=20$\")\n",
    "        ax[ax_i].set_title(names[i])\n",
    "\n",
    "dummy_lines = []\n",
    "for line in linestyles:\n",
    "    dummy_lines.append(axs[0, 0].plot([],[], ls=line, color=\"gray\")[0])\n",
    "legend1 = axs[-1, -1].legend([l0, l1, l2, l3], \n",
    "                             [\"reference\", \"best\", \"reasonable\", \"worst\"], \n",
    "                             loc=\"center left\", \n",
    "                             borderpad=0, \n",
    "                             handletextpad=0.5,\n",
    "                             borderaxespad=0\n",
    "                             )\n",
    "legend2 = axs[-1, -1].legend(dummy_lines, \n",
    "                             [\"$r=5$\", \"$r=10$\", \"$r=20$\"], \n",
    "                             loc=\"center right\", \n",
    "                             borderpad=0, \n",
    "                             handletextpad=0.5,\n",
    "                             borderaxespad=0\n",
    "                             )\n",
    "fig.add_artist(legend1)\n",
    "\n",
    "axs[-1, -1].axis('off')\n",
    "plt.setp(axs, xlabel=\"$t$\")\n",
    "plt.setp(axs[:, 0], ylabel=\"$\\langle x \\\\rangle (t)$\")\n",
    "plt.tight_layout()\n",
    "plt.savefig(\"plots/pancreatic_moments_relevant_species.pdf\", bbox_inches=\"tight\")"
   ]
  },
  {
   "cell_type": "code",
   "execution_count": null,
   "metadata": {},
   "outputs": [],
   "source": [
    "fig, axs = plt.subplots(2, 3, figsize=(8, 6))\n",
    "relevant_species = [1, 3, 20, 22, 25]\n",
    "linestyles = [':', \"--\", \"-\"]\n",
    "\n",
    "ax = axs.flatten()\n",
    "for ax_i, i in enumerate(relevant_species):\n",
    "    if i < 34:\n",
    "        ax[ax_i].plot(time, np.abs(moments_pb_r5[0][names[i]]-reference[0][names[i]]), ls=linestyles[0], color=colors[2], label=\"best, $r=5$\")\n",
    "        ax[ax_i].plot(time, np.abs(moments_pb_r10[0][names[i]]-reference[0][names[i]]), ls=linestyles[1], color=colors[2], label=\"best, $r=10$\")\n",
    "        l0, = ax[ax_i].plot(time, np.abs(moments_pb_r20[0][names[i]]-reference[0][names[i]]), ls=linestyles[2], color=colors[2], label=\"best, $r=20$\")\n",
    "        ax[ax_i].plot(time, np.abs(moments_pr_r5[0][names[i]]-reference[0][names[i]]), ls=linestyles[0], color=colors[0], label=\"reasonable, $r=5$\")\n",
    "        ax[ax_i].plot(time, np.abs(moments_pr_r10[0][names[i]]-reference[0][names[i]]), ls=linestyles[1], color=colors[0], label=\"reasonable, $r=10$\")\n",
    "        l1, = ax[ax_i].plot(time, np.abs(moments_pr_r20[0][names[i]]-reference[0][names[i]]), ls=linestyles[2], color=colors[0], label=\"reasonable, $r=20$\")\n",
    "        ax[ax_i].plot(time, np.abs(moments_pw_r5[0][names[i]]-reference[0][names[i]]), ls=linestyles[0], color=colors[1], label=\"worst, $r=5$\")\n",
    "        ax[ax_i].plot(time, np.abs(moments_pw_r10[0][names[i]]-reference[0][names[i]]), ls=linestyles[1], color=colors[1], label=\"worst, $r=10$\")\n",
    "        l2, = ax[ax_i].plot(time, np.abs(moments_pw_r20[0][names[i]]-reference[0][names[i]]), ls=linestyles[2], color=colors[1], label=\"worst, $r=20$\")\n",
    "        ax[ax_i].set_title(names[i])\n",
    "\n",
    "dummy_lines = []\n",
    "for line in linestyles:\n",
    "    dummy_lines.append(axs[0, 0].plot([],[], ls=line, color=\"gray\")[0])\n",
    "legend1 = axs[-1, -1].legend([l0, l1, l2],\n",
    "                             [\"best\", \"reasonable\", \"worst\"], \n",
    "                             loc=\"center left\", \n",
    "                             borderpad=0, \n",
    "                             handletextpad=0.5, \n",
    "                             borderaxespad=0\n",
    "                             )\n",
    "legend2 = axs[-1, -1].legend(dummy_lines, \n",
    "                             [\"$r=5$\", \"$r=10$\", \"$r=20$\"], \n",
    "                             loc=\"center right\", \n",
    "                             borderpad=0, \n",
    "                             handletextpad=0.5, \n",
    "                             borderaxespad=0\n",
    "                             )\n",
    "fig.add_artist(legend1)\n",
    "\n",
    "axs[-1, -1].axis('off')\n",
    "plt.setp(axs, xlabel=\"$t$\")\n",
    "plt.setp(axs[:, 0], ylabel=\"$|\\langle x \\\\rangle - \\langle x_\\mathrm{{ref}} \\\\rangle|$\")\n",
    "plt.tight_layout()\n",
    "plt.savefig(\"plots/pancreatic_moments_relevant_species_err.pdf\")"
   ]
  },
  {
   "cell_type": "markdown",
   "metadata": {},
   "source": [
    "### Total error over all species"
   ]
  },
  {
   "cell_type": "code",
   "execution_count": null,
   "metadata": {},
   "outputs": [],
   "source": [
    "def calculateAbsErr(marginal_distribution, ord=None):\n",
    "    difference = np.zeros((len(names), len(time)))\n",
    "    for i, name in enumerate(names):\n",
    "        difference[i, :] = marginal_distribution[name] - reference_r60[0][name]\n",
    "    abs_err = np.linalg.norm(difference, axis=0, ord=ord)\n",
    "    return abs_err"
   ]
  },
  {
   "cell_type": "code",
   "execution_count": null,
   "metadata": {},
   "outputs": [],
   "source": [
    "ord = np.inf\n",
    "\n",
    "fig, axs = plt.subplots(figsize=(5, 4))\n",
    "\n",
    "axs.plot(time, calculateAbsErr(moments_pb_r5[0], ord=ord), \":\", color=colors[2], label=\"best, $r=5$\")\n",
    "axs.plot(time, calculateAbsErr(moments_pb_r10[0], ord=ord), \"--\", color=colors[2], label=\"best, $r=10$\")\n",
    "l0, = axs.plot(time, calculateAbsErr(moments_pb_r20[0], ord=ord), \"-\", color=colors[2], label=\"best, $r=20$\")\n",
    "axs.plot(time, calculateAbsErr(moments_pr_r5[0], ord=ord), \":\", color=colors[0], label=\"reasonable, $r=5$\")\n",
    "axs.plot(time, calculateAbsErr(moments_pr_r10[0], ord=ord), \"--\", color=colors[0], label=\"reasonable, $r=10$\")\n",
    "l1, = axs.plot(time, calculateAbsErr(moments_pr_r20[0], ord=ord), \"-\", color=colors[0], label=\"reasonable, $r=20$\")\n",
    "axs.plot(time, calculateAbsErr(moments_pw_r5[0], ord=ord), \":\", color=colors[1], label=\"worst, $r=5$\")\n",
    "axs.plot(time, calculateAbsErr(moments_pw_r10[0], ord=ord), \"--\", color=colors[1], label=\"worst, $r=10$\")\n",
    "l2, = axs.plot(time, calculateAbsErr(moments_pw_r20[0], ord=ord), \"-\", color=colors[1], label=\"worst, $r=20$\")\n",
    "axs.legend([l0, l1, l2], [\"best\", \"reasonable\", \"worst\"])\n",
    "axs.set_xlabel(\"$t$\")\n",
    "axs.set_ylabel(\"$\\| \\langle x_i \\\\rangle - \\langle x_{{i,\\mathrm{{ref}}}} \\\\rangle \\|_{{\\infty,i}}$\")\n",
    "plt.tight_layout()\n",
    "plt.savefig(\"plots/pancreatic_moments_err_infty.pdf\")"
   ]
  },
  {
   "cell_type": "code",
   "execution_count": null,
   "metadata": {},
   "outputs": [],
   "source": [
    "ord = np.inf\n",
    "\n",
    "fig, axs = plt.subplots(1, 3, figsize=(7, 2.3))\n",
    "\n",
    "axs[0].plot(time, calculateAbsErr(moments_pb_r5[0], ord=ord), \"-\", color=colors[2], label=\"best, $r=5$\")\n",
    "axs[1].plot(time, calculateAbsErr(moments_pb_r10[0], ord=ord), \"-\", color=colors[2], label=\"best, $r=10$\")\n",
    "l0, = axs[2].plot(time, calculateAbsErr(moments_pb_r20[0], ord=ord), \"-\", color=colors[2], label=\"best, $r=20$\")\n",
    "axs[0].plot(time, calculateAbsErr(moments_pr_r5[0], ord=ord), \"-\", color=colors[0], label=\"reasonable, $r=5$\")\n",
    "axs[1].plot(time, calculateAbsErr(moments_pr_r10[0], ord=ord), \"-\", color=colors[0], label=\"reasonable, $r=10$\")\n",
    "l1, = axs[2].plot(time, calculateAbsErr(moments_pr_r20[0], ord=ord), \"-\", color=colors[0], label=\"reasonable, $r=20$\")\n",
    "axs[0].plot(time, calculateAbsErr(moments_pw_r5[0], ord=ord), \"-\", color=colors[1], label=\"worst, $r=5$\")\n",
    "axs[1].plot(time, calculateAbsErr(moments_pw_r10[0], ord=ord), \"-\", color=colors[1], label=\"worst, $r=10$\")\n",
    "l2, = axs[2].plot(time, calculateAbsErr(moments_pw_r20[0], ord=ord), \"-\", color=colors[1], label=\"worst, $r=20$\")\n",
    "fig.legend([l0, l1, l2], [\"best\", \"reasonable\", \"worst\"], ncols=3, loc=\"center\", bbox_to_anchor=(0.5, 1.01))\n",
    "plt.setp(axs, xlabel=\"$t$\", ylim=[-0.01, 0.36], xticks=[0, 5, 10, 15, 20])\n",
    "axs[0].set_ylabel(\"$\\| \\langle x_i \\\\rangle (t) - \\langle x_{{i,\\mathrm{{ref}}}} \\\\rangle (t) \\|_{{\\infty,i}}$\")\n",
    "\n",
    "axs[0].set_title(\"$r=5$\")\n",
    "axs[1].set_title(\"$r=10$\")\n",
    "axs[2].set_title(\"$r=20$\")\n",
    "\n",
    "axs[1].set_yticklabels([])\n",
    "\n",
    "axs[2].yaxis.tick_right()\n",
    "axs[2].yaxis.set_ticks_position(\"both\")\n",
    "axs[2].yaxis.set_label_position(\"right\")\n",
    "\n",
    "plt.subplots_adjust(wspace=0.03)\n",
    "plt.savefig(\"plots/pancreatic_moments_err_infty_separate.pdf\", bbox_inches=\"tight\")"
   ]
  },
  {
   "cell_type": "code",
   "execution_count": null,
   "metadata": {},
   "outputs": [],
   "source": [
    "ord = None\n",
    "\n",
    "fig, axs = plt.subplots(figsize=(5, 4))\n",
    "\n",
    "axs.plot(time, calculateAbsErr(moments_pb_r5[0], ord=ord), \":\", color=colors[2], label=\"best, $r=5$\")\n",
    "axs.plot(time, calculateAbsErr(moments_pb_r10[0], ord=ord), \"--\", color=colors[2], label=\"best, $r=10$\")\n",
    "l0, = axs.plot(time, calculateAbsErr(moments_pb_r20[0], ord=ord), \"-\", color=colors[2], label=\"best, $r=20$\")\n",
    "axs.plot(time, calculateAbsErr(moments_pr_r5[0], ord=ord), \":\", color=colors[0], label=\"reasonable, $r=5$\")\n",
    "axs.plot(time, calculateAbsErr(moments_pr_r10[0], ord=ord), \"--\", color=colors[0], label=\"reasonable, $r=10$\")\n",
    "l1, = axs.plot(time, calculateAbsErr(moments_pr_r20[0], ord=ord), \"-\", color=colors[0], label=\"reasonable, $r=20$\")\n",
    "axs.plot(time, calculateAbsErr(moments_pw_r5[0], ord=ord), \":\", color=colors[1], label=\"worst, $r=5$\")\n",
    "axs.plot(time, calculateAbsErr(moments_pw_r10[0], ord=ord), \"--\", color=colors[1], label=\"worst, $r=10$\")\n",
    "l2, = axs.plot(time, calculateAbsErr(moments_pw_r20[0], ord=ord), \"-\", color=colors[1], label=\"worst, $r=20$\")\n",
    "axs.legend([l0, l1, l2], [\"best\", \"reasonable\", \"worst\"])\n",
    "axs.set_xlabel(\"$t$\")\n",
    "axs.set_ylabel(\"$\\| \\langle x_i \\\\rangle - \\langle x_{{i,\\mathrm{{ref}}}} \\\\rangle \\|_{{2,i}}$\")\n",
    "plt.tight_layout()\n",
    "plt.savefig(\"plots/pancreatic_moments_err_2.pdf\")"
   ]
  },
  {
   "cell_type": "code",
   "execution_count": null,
   "metadata": {},
   "outputs": [],
   "source": [
    "ord = None\n",
    "\n",
    "fig, axs = plt.subplots(1, 3, figsize=(7, 2.3))\n",
    "\n",
    "axs[0].plot(time, calculateAbsErr(moments_pb_r5[0], ord=ord), \"-\", color=colors[2], label=\"best, $r=5$\")\n",
    "axs[1].plot(time, calculateAbsErr(moments_pb_r10[0], ord=ord), \"-\", color=colors[2], label=\"best, $r=10$\")\n",
    "l0, = axs[2].plot(time, calculateAbsErr(moments_pb_r20[0], ord=ord), \"-\", color=colors[2], label=\"best, $r=20$\")\n",
    "axs[0].plot(time, calculateAbsErr(moments_pr_r5[0], ord=ord), \"-\", color=colors[0], label=\"reasonable, $r=5$\")\n",
    "axs[1].plot(time, calculateAbsErr(moments_pr_r10[0], ord=ord), \"-\", color=colors[0], label=\"reasonable, $r=10$\")\n",
    "l1, = axs[2].plot(time, calculateAbsErr(moments_pr_r20[0], ord=ord), \"-\", color=colors[0], label=\"reasonable, $r=20$\")\n",
    "axs[0].plot(time, calculateAbsErr(moments_pw_r5[0], ord=ord), \"-\", color=colors[1], label=\"worst, $r=5$\")\n",
    "axs[1].plot(time, calculateAbsErr(moments_pw_r10[0], ord=ord), \"-\", color=colors[1], label=\"worst, $r=10$\")\n",
    "l2, = axs[2].plot(time, calculateAbsErr(moments_pw_r20[0], ord=ord), \"-\", color=colors[1], label=\"worst, $r=20$\")\n",
    "fig.legend([l0, l1, l2], [\"best\", \"reasonable\", \"worst\"], ncols=3, loc=\"center\", bbox_to_anchor=(0.5, 1.01))\n",
    "plt.setp(axs, xlabel=\"$t$\", ylim=[-0.03, 0.63], xticks=[0, 5, 10, 15, 20])\n",
    "axs[0].set_ylabel(\"$\\| \\langle x_i \\\\rangle - \\langle x_{{i,\\mathrm{{ref}}}} \\\\rangle \\|_{{2,i}}$\")\n",
    "\n",
    "axs[0].set_title(\"$r=5$\")\n",
    "axs[1].set_title(\"$r=10$\")\n",
    "axs[2].set_title(\"$r=20$\")\n",
    "\n",
    "axs[1].set_yticklabels([])\n",
    "\n",
    "axs[2].yaxis.tick_right()\n",
    "axs[2].yaxis.set_ticks_position(\"both\")\n",
    "axs[2].yaxis.set_label_position(\"right\")\n",
    "\n",
    "plt.subplots_adjust(wspace=0.03)\n",
    "plt.savefig(\"plots/pancreatic_moments_err_2_separate.pdf\", bbox_inches=\"tight\")"
   ]
  }
 ],
 "metadata": {
  "kernelspec": {
   "display_name": "base",
   "language": "python",
   "name": "python3"
  },
  "language_info": {
   "codemirror_mode": {
    "name": "ipython",
    "version": 3
   },
   "file_extension": ".py",
   "mimetype": "text/x-python",
   "name": "python",
   "nbconvert_exporter": "python",
   "pygments_lexer": "ipython3",
   "version": "3.10.14"
  }
 },
 "nbformat": 4,
 "nbformat_minor": 2
}
