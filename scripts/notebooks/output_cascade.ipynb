{
 "cells": [
  {
   "cell_type": "markdown",
   "metadata": {},
   "source": [
    "# Cascade"
   ]
  },
  {
   "cell_type": "code",
   "execution_count": null,
   "metadata": {},
   "outputs": [],
   "source": [
    "import matplotlib.gridspec as gridspec\n",
    "import matplotlib.pyplot as plt\n",
    "import numpy as np\n",
    "\n",
    "from scripts.grid_class import GridParms\n",
    "from scripts.tree_class import Tree\n",
    "from scripts.notebooks.output_helper import *\n",
    "from scripts.reference_solutions.ssa_helper import SSASol\n",
    "\n",
    "plt.style.use(\"./scripts/notebooks/custom_style.mplstyle\")\n",
    "%matplotlib inline"
   ]
  },
  {
   "cell_type": "code",
   "execution_count": null,
   "metadata": {},
   "outputs": [],
   "source": [
    "slice_vec = np.zeros(20, dtype=\"int\")"
   ]
  },
  {
   "cell_type": "markdown",
   "metadata": {},
   "source": [
    "## Load initial data"
   ]
  },
  {
   "cell_type": "markdown",
   "metadata": {},
   "source": [
    "# Tree"
   ]
  },
  {
   "cell_type": "markdown",
   "metadata": {},
   "source": [
    "## Binary tree format"
   ]
  },
  {
   "cell_type": "code",
   "execution_count": null,
   "metadata": {},
   "outputs": [],
   "source": [
    "tree_p0_r5 = readTree(\"output/cascade_bt_r5_e_tau1e-1/output_t3500.nc\")\n",
    "_, ttn_marginal_p0_r5 = tree_p0_r5.calculateObservables(slice_vec)\n",
    "\n",
    "tree_p0_r6 = readTree(\"output/cascade_bt_r6_e_tau1e-1/output_t3500.nc\")\n",
    "_, ttn_marginal_p0_r6 = tree_p0_r6.calculateObservables(slice_vec)\n",
    "\n",
    "tree_p0_r7 = readTree(\"output/cascade_bt_r7_e_tau1e-1/output_t3500.nc\")\n",
    "_, ttn_marginal_p0_r7 = tree_p0_r7.calculateObservables(slice_vec)"
   ]
  },
  {
   "cell_type": "code",
   "execution_count": null,
   "metadata": {},
   "outputs": [],
   "source": [
    "time_series = TimeSeries(\"output/cascade_bt_r5_e_tau1e-1\")\n",
    "walltime_ttn_p0_r5 = time_series.getWallTime()"
   ]
  },
  {
   "cell_type": "code",
   "execution_count": null,
   "metadata": {},
   "outputs": [],
   "source": [
    "time_series = TimeSeries(\"output/cascade_bt_r6_e_tau1e-1\")\n",
    "walltime_ttn_p0_r6 = time_series.getWallTime()"
   ]
  },
  {
   "cell_type": "code",
   "execution_count": null,
   "metadata": {},
   "outputs": [],
   "source": [
    "time_series = TimeSeries(\"output/cascade_bt_r7_e_tau1e-1\")\n",
    "walltime_ttn_p0_r7 = time_series.getWallTime()"
   ]
  },
  {
   "cell_type": "markdown",
   "metadata": {},
   "source": [
    "## Tensor train format"
   ]
  },
  {
   "cell_type": "code",
   "execution_count": null,
   "metadata": {},
   "outputs": [],
   "source": [
    "tree_p1_r5 = readTree(\"output/cascade_tt_r5_e_tau1e-1/output_t3500.nc\")\n",
    "_, ttn_marginal_p1_r5 = tree_p1_r5.calculateObservables(slice_vec)\n",
    "\n",
    "tree_p1_r6 = readTree(\"output/cascade_tt_r6_e_tau1e-1/output_t3500.nc\")\n",
    "_, ttn_marginal_p1_r6 = tree_p1_r6.calculateObservables(slice_vec)\n",
    "\n",
    "tree_p1_r7 = readTree(\"output/cascade_tt_r7_e_tau1e-1/output_t3500.nc\")\n",
    "_, ttn_marginal_p1_r7 = tree_p1_r7.calculateObservables(slice_vec)"
   ]
  },
  {
   "cell_type": "code",
   "execution_count": null,
   "metadata": {},
   "outputs": [],
   "source": [
    "time_series = TimeSeries(\"output/cascade_tt_r5_e_tau1e-1\")\n",
    "walltime_ttn_p1_r5 = time_series.getWallTime()"
   ]
  },
  {
   "cell_type": "code",
   "execution_count": null,
   "metadata": {},
   "outputs": [],
   "source": [
    "time_series = TimeSeries(\"output/cascade_tt_r6_e_tau1e-1\")\n",
    "walltime_ttn_p1_r6 = time_series.getWallTime()"
   ]
  },
  {
   "cell_type": "code",
   "execution_count": null,
   "metadata": {},
   "outputs": [],
   "source": [
    "time_series = TimeSeries(\"output/cascade_tt_r7_e_tau1e-1\")\n",
    "walltime_ttn_p1_r7 = time_series.getWallTime()"
   ]
  },
  {
   "cell_type": "markdown",
   "metadata": {},
   "source": [
    "### SSA"
   ]
  },
  {
   "cell_type": "code",
   "execution_count": null,
   "metadata": {},
   "outputs": [],
   "source": [
    "idx_2D = np.array([0, 1])\n",
    "slice_vec = np.zeros(20, dtype=\"int\")"
   ]
  },
  {
   "cell_type": "code",
   "execution_count": null,
   "metadata": {},
   "outputs": [],
   "source": [
    "with np.load(\"scripts/reference_solutions/cascade_ssa_1e+04.npz\") as data:\n",
    "    ssa_1e4 = data[\"result\"]\n",
    "    walltime_ssa_1e4 = data[\"wall_time\"]\n",
    "\n",
    "ssa_1e4_sol = SSASol(ssa_1e4)\n",
    "ssa_marginal_1e4, _, _, _ = ssa_1e4_sol.calculateObservables(slice_vec, idx_2D)"
   ]
  },
  {
   "cell_type": "code",
   "execution_count": null,
   "metadata": {},
   "outputs": [],
   "source": [
    "with np.load(\"scripts/reference_solutions/cascade_ssa_1e+05.npz\") as data:\n",
    "    ssa_1e5 = data[\"result\"]\n",
    "    walltime_ssa_1e5 = data[\"wall_time\"]\n",
    "\n",
    "ssa_1e5_sol = SSASol(ssa_1e5)\n",
    "ssa_marginal_1e5, _, _, _ = ssa_1e5_sol.calculateObservables(slice_vec, idx_2D)"
   ]
  },
  {
   "cell_type": "code",
   "execution_count": null,
   "metadata": {},
   "outputs": [],
   "source": [
    "with np.load(\"scripts/reference_solutions/cascade_ssa_1e+06.npz\") as data:\n",
    "    ssa_1e6 = data[\"result\"]\n",
    "    walltime_ssa_1e6 = data[\"wall_time\"]\n",
    "\n",
    "ssa_1e6_sol = SSASol(ssa_1e6)\n",
    "ssa_marginal_1e6, _, _, _ = ssa_1e6_sol.calculateObservables(slice_vec, idx_2D)"
   ]
  },
  {
   "cell_type": "code",
   "execution_count": null,
   "metadata": {},
   "outputs": [],
   "source": [
    "with np.load(\"scripts/reference_solutions/cascade_ssa_1e+07.npz\") as data:\n",
    "    ssa_1e7 = data[\"result\"]\n",
    "\n",
    "ssa_1e7_sol = SSASol(ssa_1e7)\n",
    "ssa_marginal_1e7, _, _, _ = ssa_1e7_sol.calculateObservables(slice_vec, idx_2D)"
   ]
  },
  {
   "cell_type": "markdown",
   "metadata": {},
   "source": [
    "# Error between SSA and the SSA reference solution"
   ]
  },
  {
   "cell_type": "code",
   "execution_count": null,
   "metadata": {},
   "outputs": [],
   "source": [
    "d = len(ssa_1e7_sol.n)\n",
    "SSA_marginal_err_1e4 = np.zeros(d)\n",
    "SSA_marginal_err_1e5 = np.zeros(d)\n",
    "SSA_marginal_err_1e6 = np.zeros(d)\n",
    "\n",
    "for i in range(d):\n",
    "    n_start_1e4 = ssa_1e4_sol.n_min[i] - ssa_1e7_sol.n_min[i]\n",
    "    n_start_1e5 = ssa_1e5_sol.n_min[i] - ssa_1e7_sol.n_min[i]\n",
    "    n_start_1e6 = ssa_1e6_sol.n_min[i] - ssa_1e7_sol.n_min[i]\n",
    "\n",
    "    SSA_marginal_err_1e4[i] = np.linalg.norm(ssa_marginal_1e7[-1][i][n_start_1e4 : n_start_1e4+ssa_1e4_sol.n[i]] - ssa_marginal_1e4[-1][i][:ssa_1e7_sol.n[i]])\n",
    "    SSA_marginal_err_1e5[i] = np.linalg.norm(ssa_marginal_1e7[-1][i][n_start_1e5 : n_start_1e5+ssa_1e5_sol.n[i]] - ssa_marginal_1e5[-1][i][:ssa_1e7_sol.n[i]])\n",
    "    SSA_marginal_err_1e6[i] = np.linalg.norm(ssa_marginal_1e7[-1][i][n_start_1e6 : n_start_1e6+ssa_1e6_sol.n[i]] - ssa_marginal_1e6[-1][i][:ssa_1e7_sol.n[i]])"
   ]
  },
  {
   "cell_type": "markdown",
   "metadata": {},
   "source": [
    "# Error between the TTN solution and the SSA reference solution"
   ]
  },
  {
   "cell_type": "code",
   "execution_count": null,
   "metadata": {},
   "outputs": [],
   "source": [
    "def marginal_err(marginal_tt, tree: Tree):\n",
    "    marginal_err = np.array([np.linalg.norm(marginal_tt[tree.species_names[i]][ssa_1e7_sol.n_min[i] : ssa_1e7_sol.n_min[i]+ssa_1e7_sol.n[i]] - ssa_marginal_1e7[-1][i][:tree.grid.n[i]], ord=None) for i in range(tree.grid.d())])\n",
    "    return marginal_err"
   ]
  },
  {
   "cell_type": "code",
   "execution_count": null,
   "metadata": {},
   "outputs": [],
   "source": [
    "marginal_err_p0_r5_SSA = marginal_err(ttn_marginal_p0_r5, tree_p0_r5)\n",
    "marginal_err_p0_r6_SSA = marginal_err(ttn_marginal_p0_r6, tree_p0_r6)\n",
    "marginal_err_p0_r7_SSA = marginal_err(ttn_marginal_p0_r7, tree_p0_r7)\n",
    "\n",
    "marginal_err_p1_r5_SSA = marginal_err(ttn_marginal_p1_r5, tree_p1_r5)\n",
    "marginal_err_p1_r6_SSA = marginal_err(ttn_marginal_p1_r6, tree_p1_r6)\n",
    "marginal_err_p1_r7_SSA = marginal_err(ttn_marginal_p1_r7, tree_p1_r7)"
   ]
  },
  {
   "cell_type": "markdown",
   "metadata": {},
   "source": [
    "# Plot the results"
   ]
  },
  {
   "cell_type": "markdown",
   "metadata": {},
   "source": [
    "## With clustering"
   ]
  },
  {
   "cell_type": "code",
   "execution_count": null,
   "metadata": {},
   "outputs": [],
   "source": [
    "walltimes = [walltime_ssa_1e6, walltime_ssa_1e5, walltime_ssa_1e4, walltime_ttn_p1_r5, walltime_ttn_p1_r6, walltime_ttn_p1_r7]\n",
    "labels_walltime = [\"$10^6$ runs\", \"$10^5$ runs\", \"$10^4$ runs\", \"$r = 5$\", \"$r = 6$\", \"$r = 7$\"]#, \"$r = 8$\"]\n",
    "\n",
    "colors = plt.rcParams['axes.prop_cycle'].by_key()['color']\n",
    "color = [colors[1], colors[1], colors[1], colors[0], colors[0], colors[0]]#, colors[0]]\n",
    "bar_labels = ['SSA', '_SSA', '_SSA', 'PS-TTN', '_PS-TTN', '_PS-TTN']#, '_PS-TTN'] #, '_PS-TTN integrator']"
   ]
  },
  {
   "cell_type": "code",
   "execution_count": null,
   "metadata": {},
   "outputs": [],
   "source": [
    "gs = gridspec.GridSpec(1, 30)\n",
    "\n",
    "fig = plt.figure(figsize=(8.5, 3))\n",
    "ax00 = plt.subplot(gs[0, :9])\n",
    "ax00.plot(np.arange(tree_p1_r5.grid.d()), marginal_err_p1_r5_SSA, '.-', label=\"$r = 5$\")\n",
    "ax00.plot(np.arange(tree_p1_r6.grid.d()), marginal_err_p1_r6_SSA, '.-', label=\"$r = 6$\")\n",
    "ax00.plot(np.arange(tree_p1_r7.grid.d()), marginal_err_p1_r7_SSA, '.-', label=\"$r = 7$\")\n",
    "ax00.set_yscale(\"log\")\n",
    "ax00.set_xlabel(\"species $S_i$\")\n",
    "ax00.legend()\n",
    "ax00.set_title(\"$\\Vert P_M^\\mathrm{{TTN}}(x_i)-P_M^\\mathrm{{SSA,ref}}(x_i) \\Vert$\")\n",
    "\n",
    "ax01 = plt.subplot(gs[0, 9:18])\n",
    "ax01.plot(np.arange(tree_p1_r5.grid.d()), SSA_marginal_err_1e4, 'x-', label=\"$10^4$ runs\")\n",
    "ax01.plot(np.arange(tree_p1_r5.grid.d()), SSA_marginal_err_1e5, 'x-', label=\"$10^5$ runs\")\n",
    "ax01.plot(np.arange(tree_p1_r5.grid.d()), SSA_marginal_err_1e6, 'x-', label=\"$10^6$ runs\")\n",
    "ax01.set_yscale(\"log\")\n",
    "ax01.set_xlabel(\"species $S_i$\")\n",
    "ax01.legend()\n",
    "ax01.set_title(\"$\\Vert P_M^\\mathrm{{SSA}}(x_i)-P_M^\\mathrm{{SSA,ref}}(x_i) \\Vert$\")\n",
    "ax01.set_yticklabels([])\n",
    "\n",
    "plt.setp((ax00, ax01), ylim=[1e-5, 1e-1], xticks=[0, 4, 8, 12, 16, 19])\n",
    "\n",
    "ax10 = plt.subplot(gs[0:, 22:])\n",
    "ax10.barh(labels_walltime, walltimes, label=bar_labels, color=color)\n",
    "# ax10.set_xscale(\"log\")\n",
    "ax10.set_xlabel(\"wall time [$\\mathrm{{s}}$]\")\n",
    "ax10.legend()\n",
    "\n",
    "plt.subplots_adjust(wspace=0.3)\n",
    "# plt.tight_layout()\n",
    "\n",
    "plt.savefig(\"plots/cascade_comparison_marginal_ttn_ssa.pdf\", bbox_inches=\"tight\");"
   ]
  },
  {
   "cell_type": "code",
   "execution_count": null,
   "metadata": {},
   "outputs": [],
   "source": [
    "fig, axs = plt.subplots(1, 2, figsize=(7, 3))\n",
    "axs[0].plot(np.arange(tree_p1_r5.grid.d()), marginal_err_p1_r5_SSA, '.-', label=\"$r = 5$\")\n",
    "axs[0].plot(np.arange(tree_p1_r6.grid.d()), marginal_err_p1_r6_SSA, '.-', label=\"$r = 6$\")\n",
    "axs[0].plot(np.arange(tree_p1_r7.grid.d()), marginal_err_p1_r7_SSA, '.-', label=\"$r = 7$\")\n",
    "axs[0].set_yscale(\"log\")\n",
    "axs[0].set_xlabel(\"species $S_i$\")\n",
    "axs[0].set_title(\"$\\Vert P_M^\\mathrm{{TT}}(x_i)-P_M^\\mathrm{{SSA,ref}}(x_i) \\Vert$\")\n",
    "\n",
    "axs[1].plot(np.arange(tree_p0_r5.grid.d()), marginal_err_p0_r5_SSA, '.-')\n",
    "axs[1].plot(np.arange(tree_p0_r6.grid.d()), marginal_err_p0_r6_SSA, '.-')\n",
    "axs[1].plot(np.arange(tree_p0_r7.grid.d()), marginal_err_p0_r7_SSA, '.-')\n",
    "axs[1].set_yscale(\"log\")\n",
    "axs[1].set_xlabel(\"species $S_i$\")\n",
    "axs[1].set_title(\"$\\Vert P_M^\\mathrm{{BT}}(x_i)-P_M^\\mathrm{{SSA,ref}}(x_i) \\Vert$\")\n",
    "axs[1].yaxis.tick_right()\n",
    "axs[1].yaxis.set_ticks_position(\"both\")\n",
    "axs[1].yaxis.set_label_position(\"right\")\n",
    "\n",
    "fig.legend(loc=\"center\", ncol=3, bbox_to_anchor=(0.5, 1.02))\n",
    "plt.subplots_adjust(wspace=0.02)\n",
    "plt.setp(axs, ylim=[1e-4, 3e-2], xticks=[0, 4, 8, 12, 16, 19])\n",
    "\n",
    "plt.savefig(\"plots/cascade_comparison_marginal_tt_bt.pdf\", bbox_inches=\"tight\");"
   ]
  },
  {
   "cell_type": "code",
   "execution_count": null,
   "metadata": {},
   "outputs": [],
   "source": [
    "fig, axs = plt.subplots(2, 2, figsize=(7, 6))\n",
    "axs[0, 0].plot(np.arange(tree_p1_r5.grid.d()), marginal_err_p1_r5_SSA, '.-', label=\"$r = 5$\")\n",
    "axs[0, 0].plot(np.arange(tree_p1_r6.grid.d()), marginal_err_p1_r6_SSA, '.-', label=\"$r = 6$\")\n",
    "axs[0, 0].plot(np.arange(tree_p1_r7.grid.d()), marginal_err_p1_r7_SSA, '.-', label=\"$r = 7$\")\n",
    "axs[0, 0].set_yscale(\"log\")\n",
    "axs[0, 0].set_xlabel(\"species $S_i$\")\n",
    "axs[0, 0].legend()\n",
    "axs[0, 0].set_title(\"$\\Vert P_M^\\mathrm{{TT}}(x_i)-P_M^\\mathrm{{SSA,ref}}(x_i) \\Vert$\")\n",
    "\n",
    "axs[0, 1].plot(np.arange(tree_p0_r5.grid.d()), marginal_err_p0_r5_SSA, '.-', label=\"$r = 5$\")\n",
    "axs[0, 1].plot(np.arange(tree_p0_r6.grid.d()), marginal_err_p0_r6_SSA, '.-', label=\"$r = 6$\")\n",
    "axs[0, 1].plot(np.arange(tree_p0_r7.grid.d()), marginal_err_p0_r7_SSA, '.-', label=\"$r = 7$\")\n",
    "axs[0, 1].set_yscale(\"log\")\n",
    "axs[0, 1].set_xlabel(\"species $S_i$\")\n",
    "axs[0, 1].legend()\n",
    "axs[0, 1].set_title(\"$\\Vert P_M^\\mathrm{{BT}}(x_i)-P_M^\\mathrm{{SSA,ref}}(x_i) \\Vert$\")\n",
    "\n",
    "axs[1, 0].plot(np.arange(tree_p1_r5.grid.d()), SSA_marginal_err_1e4, 'x-', label=\"$10^4$ runs\")\n",
    "axs[1, 0].plot(np.arange(tree_p1_r5.grid.d()), SSA_marginal_err_1e5, 'x-', label=\"$10^5$ runs\")\n",
    "axs[1, 0].plot(np.arange(tree_p1_r5.grid.d()), SSA_marginal_err_1e6, 'x-', label=\"$10^6$ runs\")\n",
    "axs[1, 0].set_yscale(\"log\")\n",
    "axs[1, 0].set_xlabel(\"species $S_i$\")\n",
    "axs[1, 0].legend()\n",
    "axs[1, 0].set_title(\"$\\Vert P_M^\\mathrm{{SSA}}(x_i)-P_M^\\mathrm{{SSA,ref}}(x_i) \\Vert$\")\n",
    "axs[1, 0].yaxis.tick_right()\n",
    "axs[1, 0].yaxis.set_ticks_position(\"both\")\n",
    "axs[1, 0].yaxis.set_label_position(\"right\")\n",
    "\n",
    "plt.setp(axs[0, :], ylim=[1e-6, 1e-1], xticks=[0, 4, 8, 12, 16, 19])\n",
    "plt.setp(axs[1, 0], ylim=[1e-6, 1e-1], xticks=[0, 4, 8, 12, 16, 19])\n",
    "\n",
    "axs[1, 1].barh(labels_walltime, walltimes, label=bar_labels, color=color)\n",
    "axs[1, 1].set_xscale(\"log\")\n",
    "axs[1, 1].set_xlabel(\"wall time [$\\mathrm{{s}}$]\")\n",
    "axs[1, 1].legend(loc=\"center right\", ncols=1)\n",
    "plt.tight_layout()\n",
    "\n",
    "plt.savefig(\"plots/cascade_comparison_marginal_tt_bt_ssa.pdf\", bbox_inches=\"tight\");"
   ]
  },
  {
   "cell_type": "markdown",
   "metadata": {},
   "source": [
    "# Error depending on time step size"
   ]
  },
  {
   "cell_type": "markdown",
   "metadata": {},
   "source": [
    "# Comparison with deterministic solution"
   ]
  },
  {
   "cell_type": "code",
   "execution_count": null,
   "metadata": {},
   "outputs": [],
   "source": [
    "time_series = TimeSeries(\"output/cascade_tt_r6_e_tau1e-2\")\n",
    "concentrations = time_series.calculateMoments()\n",
    "t = time_series.time"
   ]
  },
  {
   "cell_type": "code",
   "execution_count": null,
   "metadata": {},
   "outputs": [],
   "source": [
    "fig, ax = plt.subplots(figsize=(5, 3))\n",
    "deviation = {key: np.sqrt(concentrations[1][key]-concentrations[0][key]**2) for key in concentrations[0]}\n",
    "observables = [\"$S_{{0}}$\", \"$S_{{2}}$\", \"$S_{{4}}$\", \"$S_{{8}}$\", \"$S_{{16}}$\"]\n",
    "idx = [\"S0\", \"S2\", \"S4\", \"S8\", \"S16\"]\n",
    "colors = plt.rcParams['axes.prop_cycle'].by_key()['color']\n",
    "for j, (i, o) in enumerate(zip(idx, observables)):\n",
    "    ax.plot(t, concentrations[0][i], '-', label=o, alpha=0.7, color=colors[j])\n",
    "    ax.fill_between(t, concentrations[0][i]-deviation[i], concentrations[0][i]+deviation[i], alpha=.1, color=colors[j])\n",
    "ax.set_ylabel(\"$\\langle x_i \\\\rangle (t)$\")\n",
    "plt.setp(ax, xlabel=\"$t$\", xlim=[0.0, 350.0], ylim=[0.0, 14.0]);\n",
    "\n",
    "lines_labels = [ax.get_legend_handles_labels() for ax in fig.axes]\n",
    "lines, labels = [sum(ll, []) for ll in zip(*lines_labels)]\n",
    "fig.legend(lines, labels, ncols=5, loc=\"upper center\")\n",
    "\n",
    "plt.savefig(\"plots/cascade_concentrations.pdf\");"
   ]
  },
  {
   "cell_type": "markdown",
   "metadata": {},
   "source": [
    "# Mass error"
   ]
  },
  {
   "cell_type": "code",
   "execution_count": null,
   "metadata": {},
   "outputs": [],
   "source": [
    "time_series = TimeSeries(\"output/cascade_tt_r5_e_tau1e-1\")\n",
    "mass_err00 = np.abs(time_series.getMassErr())\n",
    "time = time_series.time\n",
    "\n",
    "time_series = TimeSeries(\"output/cascade_tt_r6_e_tau1e-1\")\n",
    "mass_err10 = np.abs(time_series.getMassErr())\n",
    "\n",
    "time_series = TimeSeries(\"output/cascade_tt_r7_e_tau1e-1\")\n",
    "mass_err20 = np.abs(time_series.getMassErr())"
   ]
  },
  {
   "cell_type": "code",
   "execution_count": null,
   "metadata": {},
   "outputs": [],
   "source": [
    "fig, axs = plt.subplots(2, 2, figsize=(7, 6))\n",
    "\n",
    "axs[0, 0].plot(time, mass_err00, \".-\", label=\"$\\mathcal{{P}}_0$\")\n",
    "axs[0, 0].set_title(\"$r = 5$\")\n",
    "\n",
    "axs[0, 1].plot(time, mass_err10, \".-\")\n",
    "axs[0, 1].set_title(\"$r = 6$\")\n",
    "axs[0, 1].yaxis.tick_right()\n",
    "axs[0, 1].yaxis.set_ticks_position(\"both\")\n",
    "axs[0, 1].yaxis.set_label_position(\"right\")\n",
    "\n",
    "axs[1, 0].plot(time, mass_err20, \".-\")\n",
    "axs[1, 0].set_title(\"$r = 7$\")\n",
    "\n",
    "plt.setp(axs, xlabel=\"$t$\", ylim=[3e-8, 5e-2], yscale=\"log\")\n",
    "plt.subplots_adjust(hspace=0.5)\n",
    "fig.suptitle(\"$|\\Delta m(t)|$\", fontsize=16, y=1.05)\n",
    "fig.legend(*axs[0, 0].get_legend_handles_labels(), ncols=3, loc=\"center\", bbox_to_anchor=(0.5, 0.95))\n",
    "plt.tight_layout()\n",
    "plt.savefig(\"plots/cascade_mass_err_comparison_ttn.pdf\");"
   ]
  }
 ],
 "metadata": {
  "kernelspec": {
   "display_name": "base",
   "language": "python",
   "name": "python3"
  },
  "language_info": {
   "codemirror_mode": {
    "name": "ipython",
    "version": 3
   },
   "file_extension": ".py",
   "mimetype": "text/x-python",
   "name": "python",
   "nbconvert_exporter": "python",
   "pygments_lexer": "ipython3",
   "version": "3.10.14"
  }
 },
 "nbformat": 4,
 "nbformat_minor": 2
}
