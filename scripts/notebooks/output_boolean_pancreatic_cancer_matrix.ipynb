{
 "cells": [
  {
   "cell_type": "markdown",
   "metadata": {},
   "source": [
    "# Boolean pancreatic cancer in the matrix case"
   ]
  },
  {
   "cell_type": "code",
   "execution_count": null,
   "metadata": {},
   "outputs": [],
   "source": [
    "import matplotlib.pyplot as plt\n",
    "import numpy as np\n",
    "\n",
    "import scripts.boolean_helper\n",
    "from scripts.tree_class import plotReactionGraph\n",
    "from scripts.notebooks.output_helper import *\n",
    "\n",
    "reaction_system = scripts.boolean_helper.convertRulesToReactions(\"scripts/models/boolean_rulefiles/pancreatic_cancer.hpp\")\n",
    "\n",
    "plt.style.use(\"./scripts/notebooks/custom_style_boolean.mplstyle\")\n",
    "%matplotlib inline"
   ]
  },
  {
   "cell_type": "code",
   "execution_count": null,
   "metadata": {},
   "outputs": [],
   "source": [
    "colors = plt.rcParams['axes.prop_cycle'].by_key()['color']\n",
    "print(colors)\n",
    "seed = 6"
   ]
  },
  {
   "cell_type": "markdown",
   "metadata": {},
   "source": [
    "## Load initial data"
   ]
  },
  {
   "cell_type": "markdown",
   "metadata": {},
   "source": [
    "### Best"
   ]
  },
  {
   "cell_type": "code",
   "execution_count": null,
   "metadata": {},
   "outputs": [],
   "source": [
    "with np.load(\"output/pancreatic_matrix_pb_r5_e_tau1e-2.npz\", allow_pickle=True) as f:\n",
    "    time = f[\"time\"]\n",
    "    moments_pb_r5 = f[\"moments\"]"
   ]
  },
  {
   "cell_type": "code",
   "execution_count": null,
   "metadata": {},
   "outputs": [],
   "source": [
    "with np.load(\"output/pancreatic_matrix_pb_r10_e_tau1e-2.npz\", allow_pickle=True) as f:\n",
    "    time = f[\"time\"]\n",
    "    moments_pb_r10 = f[\"moments\"]"
   ]
  },
  {
   "cell_type": "code",
   "execution_count": null,
   "metadata": {},
   "outputs": [],
   "source": [
    "with np.load(\"output/pancreatic_matrix_pb_r20_e_tau1e-2.npz\", allow_pickle=True) as f:\n",
    "    time = f[\"time\"]\n",
    "    moments_pb_r20 = f[\"moments\"]"
   ]
  },
  {
   "cell_type": "markdown",
   "metadata": {},
   "source": [
    "### Reasonable"
   ]
  },
  {
   "cell_type": "code",
   "execution_count": null,
   "metadata": {},
   "outputs": [],
   "source": [
    "with np.load(\"output/pancreatic_matrix_pr_r5_e_tau1e-2.npz\", allow_pickle=True) as f:\n",
    "    time = f[\"time\"]\n",
    "    moments_pr_r5 = f[\"moments\"]"
   ]
  },
  {
   "cell_type": "code",
   "execution_count": null,
   "metadata": {},
   "outputs": [],
   "source": [
    "with np.load(\"output/pancreatic_matrix_pr_r10_e_tau1e-2.npz\", allow_pickle=True) as f:\n",
    "    time = f[\"time\"]\n",
    "    moments_pr_r10 = f[\"moments\"]"
   ]
  },
  {
   "cell_type": "code",
   "execution_count": null,
   "metadata": {},
   "outputs": [],
   "source": [
    "with np.load(\"output/pancreatic_matrix_pr_r20_e_tau1e-2.npz\", allow_pickle=True) as f:\n",
    "    time = f[\"time\"]\n",
    "    moments_pr_r20 = f[\"moments\"]"
   ]
  },
  {
   "cell_type": "markdown",
   "metadata": {},
   "source": [
    "### Worst"
   ]
  },
  {
   "cell_type": "code",
   "execution_count": null,
   "metadata": {},
   "outputs": [],
   "source": [
    "with np.load(\"output/pancreatic_matrix_pw_r5_e_tau1e-2.npz\", allow_pickle=True) as f:\n",
    "    time = f[\"time\"]\n",
    "    moments_pw_r5 = f[\"moments\"]"
   ]
  },
  {
   "cell_type": "code",
   "execution_count": null,
   "metadata": {},
   "outputs": [],
   "source": [
    "with np.load(\"output/pancreatic_matrix_pw_r10_e_tau1e-2.npz\", allow_pickle=True) as f:\n",
    "    time = f[\"time\"]\n",
    "    moments_pw_r10 = f[\"moments\"]"
   ]
  },
  {
   "cell_type": "code",
   "execution_count": null,
   "metadata": {},
   "outputs": [],
   "source": [
    "with np.load(\"output/pancreatic_matrix_pw_r20_e_tau1e-2.npz\", allow_pickle=True) as f:\n",
    "    time = f[\"time\"]\n",
    "    moments_pw_r20 = f[\"moments\"]"
   ]
  },
  {
   "cell_type": "markdown",
   "metadata": {},
   "source": [
    "### Literature"
   ]
  },
  {
   "cell_type": "code",
   "execution_count": null,
   "metadata": {},
   "outputs": [],
   "source": [
    "with np.load(\"output/pancreatic_matrix_pl_r5_e_tau1e-2.npz\", allow_pickle=True) as f:\n",
    "    time = f[\"time\"]\n",
    "    moments_pl_r5 = f[\"moments\"]"
   ]
  },
  {
   "cell_type": "code",
   "execution_count": null,
   "metadata": {},
   "outputs": [],
   "source": [
    "with np.load(\"output/pancreatic_matrix_pl_r10_e_tau1e-2.npz\", allow_pickle=True) as f:\n",
    "    time = f[\"time\"]\n",
    "    moments_pl_r10 = f[\"moments\"]"
   ]
  },
  {
   "cell_type": "code",
   "execution_count": null,
   "metadata": {},
   "outputs": [],
   "source": [
    "with np.load(\"output/pancreatic_matrix_pl_r20_e_tau1e-2.npz\", allow_pickle=True) as f:\n",
    "    time = f[\"time\"]\n",
    "    moments_pl_r20 = f[\"moments\"]"
   ]
  },
  {
   "cell_type": "markdown",
   "metadata": {},
   "source": [
    "### Reference solution"
   ]
  },
  {
   "cell_type": "code",
   "execution_count": null,
   "metadata": {},
   "outputs": [],
   "source": [
    "# reference_r50 = np.load(\"output/boolean_pancreatic_matrix_reference_r50.npy\")\n",
    "\n",
    "with np.load(\"output/pancreatic_matrix_pl_r50_e_tau1e-2.npz\", allow_pickle=True) as f:\n",
    "    time = f[\"time\"]\n",
    "    reference_r50 = f[\"moments\"]\n",
    "\n",
    "with np.load(\"output/pancreatic_matrix_pl_r60_e_tau1e-2.npz\", allow_pickle=True) as f:\n",
    "    time = f[\"time\"]\n",
    "    reference_r60 = f[\"moments\"]"
   ]
  },
  {
   "cell_type": "markdown",
   "metadata": {},
   "source": [
    "## Plots"
   ]
  },
  {
   "cell_type": "code",
   "execution_count": null,
   "metadata": {},
   "outputs": [],
   "source": [
    "time_series = TimeSeries(\"output/pancreatic_matrix_pb_r5_e_tau1e-2\")\n",
    "names = time_series.getSpeciesNames()\n",
    "names_lower = np.array([name.lower() for name in names])\n",
    "names = names[np.argsort(names_lower)]\n",
    "colors = plt.rcParams['axes.prop_cycle'].by_key()['color']"
   ]
  },
  {
   "cell_type": "markdown",
   "metadata": {},
   "source": [
    "### Comparison for all species"
   ]
  },
  {
   "cell_type": "code",
   "execution_count": null,
   "metadata": {},
   "outputs": [],
   "source": [
    "fig, axs = plt.subplots(6, 6, figsize=(15, 15))\n",
    "\n",
    "for i, ax in enumerate(axs.flatten()):\n",
    "    if i < 34:\n",
    "        ax.plot(time, reference_r60[0][names[i]], \"k.-\", label=\"reference\")\n",
    "        ax.plot(time, moments_pb_r5[0][names[i]], \":\", color=colors[2], label=\"best, $r=5$\")\n",
    "        ax.plot(time, moments_pb_r10[0][names[i]], \"--\", color=colors[2], label=\"best, $r=10$\")\n",
    "        ax.plot(time, moments_pb_r20[0][names[i]], \"-\", color=colors[2], label=\"best, $r=20$\")\n",
    "        ax.plot(time, moments_pr_r5[0][names[i]], \":\", color=colors[0], label=\"reasonable, $r=5$\")\n",
    "        ax.plot(time, moments_pr_r10[0][names[i]], \"--\", color=colors[0], label=\"reasonable, $r=10$\")\n",
    "        ax.plot(time, moments_pr_r20[0][names[i]], \"-\", color=colors[0], label=\"reasonable, $r=20$\")\n",
    "        ax.plot(time, moments_pw_r5[0][names[i]], \":\", color=colors[1], label=\"worst, $r=5$\")\n",
    "        ax.plot(time, moments_pw_r10[0][names[i]], \"--\", color=colors[1], label=\"worst, $r=10$\")\n",
    "        ax.plot(time, moments_pw_r20[0][names[i]], \"-\", color=colors[1], label=\"worst, $r=20$\")\n",
    "        ax.plot(time, moments_pl_r5[0][names[i]], \"-\", color=colors[3], label=\"literature, $r=5$\")\n",
    "        ax.plot(time, moments_pl_r10[0][names[i]], \"-\", color=colors[3], label=\"literature, $r=10$\")\n",
    "        ax.plot(time, moments_pl_r20[0][names[i]], \"-\", color=colors[3], label=\"literature, $r=20$\")\n",
    "        ax.set_title(names[i])\n",
    "h, l = axs[0, 0].get_legend_handles_labels()\n",
    "axs[-1, -2].legend(h[::4], [\"reference\", \"best\", \"reasonable\", \"worst\", \"literature\"], loc=\"center left\")\n",
    "axs[-1, -2].axis('off')\n",
    "axs[-1, -1].axis('off')\n",
    "plt.setp(axs, ylim=[-0.05, 1.05])\n",
    "plt.tight_layout()\n",
    "plt.savefig(\"plots/pancreatic_matrix_moments.pdf\")"
   ]
  },
  {
   "cell_type": "markdown",
   "metadata": {},
   "source": [
    "### Total error over all species"
   ]
  },
  {
   "cell_type": "code",
   "execution_count": null,
   "metadata": {},
   "outputs": [],
   "source": [
    "def calculateAbsErr(marginal_distribution, ord=None):\n",
    "    difference = np.zeros((len(names), len(time)))\n",
    "    for i, name in enumerate(names):\n",
    "        difference[i, :] = marginal_distribution[name] - reference_r60[0][name]\n",
    "    abs_err = np.linalg.norm(difference, axis=0, ord=ord)\n",
    "    return abs_err"
   ]
  },
  {
   "cell_type": "code",
   "execution_count": null,
   "metadata": {},
   "outputs": [],
   "source": [
    "ord = np.inf\n",
    "\n",
    "fig, axs = plt.subplots(1, 3, figsize=(7, 2.3))\n",
    "\n",
    "axs[0].plot(time, calculateAbsErr(moments_pb_r5[0], ord=ord), \"-\", color=colors[2], label=\"best, $r=5$\")\n",
    "axs[1].plot(time, calculateAbsErr(moments_pb_r10[0], ord=ord), \"-\", color=colors[2], label=\"best, $r=10$\")\n",
    "l0, = axs[2].plot(time, calculateAbsErr(moments_pb_r20[0], ord=ord), \"-\", color=colors[2], label=\"best, $r=20$\")\n",
    "axs[0].plot(time, calculateAbsErr(moments_pr_r5[0], ord=ord), \"-\", color=colors[0], label=\"reasonable, $r=5$\")\n",
    "axs[1].plot(time, calculateAbsErr(moments_pr_r10[0], ord=ord), \"-\", color=colors[0], label=\"reasonable, $r=10$\")\n",
    "l1, = axs[2].plot(time, calculateAbsErr(moments_pr_r20[0], ord=ord), \"-\", color=colors[0], label=\"reasonable, $r=20$\")\n",
    "axs[0].plot(time, calculateAbsErr(moments_pw_r5[0], ord=ord), \"-\", color=colors[1], label=\"worst, $r=5$\")\n",
    "axs[1].plot(time, calculateAbsErr(moments_pw_r10[0], ord=ord), \"-\", color=colors[1], label=\"worst, $r=10$\")\n",
    "l2, = axs[2].plot(time, calculateAbsErr(moments_pw_r20[0], ord=ord), \"-\", color=colors[1], label=\"worst, $r=20$\")\n",
    "l3, = axs[0].plot(time, calculateAbsErr(moments_pl_r5[0], ord=ord), \"-\", color=colors[3], label=\"literature, $r=5$\")\n",
    "l3, = axs[1].plot(time, calculateAbsErr(moments_pl_r10[0], ord=ord), \"-\", color=colors[3], label=\"literature, $r=10$\")\n",
    "l3, = axs[2].plot(time, calculateAbsErr(moments_pl_r20[0], ord=ord), \"-\", color=colors[3], label=\"literature, $r=20$\")\n",
    "fig.legend([l0, l1, l2, l3], [\"best\", \"reasonable\", \"worst\", \"literature\"], ncols=4, loc=\"center\", bbox_to_anchor=(0.5, 1.01))\n",
    "plt.setp(axs, xlabel=\"$t$\", ylim=[-0.01, 0.21], xticks=[0, 5, 10, 15, 20])\n",
    "axs[0].set_ylabel(\"$\\| \\langle x_i \\\\rangle (t) - \\langle x_{{i,\\mathrm{{ref}}}} \\\\rangle (t) \\|_{{\\infty,i}}$\")\n",
    "\n",
    "axs[0].set_title(\"$r=5$\")\n",
    "axs[1].set_title(\"$r=10$\")\n",
    "axs[2].set_title(\"$r=20$\")\n",
    "\n",
    "axs[1].set_yticklabels([])\n",
    "\n",
    "axs[2].yaxis.tick_right()\n",
    "axs[2].yaxis.set_ticks_position(\"both\")\n",
    "axs[2].yaxis.set_label_position(\"right\")\n",
    "\n",
    "plt.subplots_adjust(wspace=0.03)\n",
    "plt.savefig(\"plots/pancreatic_matrix_moments_err_infty_separate.pdf\", bbox_inches=\"tight\")"
   ]
  },
  {
   "cell_type": "markdown",
   "metadata": {},
   "source": [
    "### Check convergence of reference solutions"
   ]
  },
  {
   "cell_type": "code",
   "execution_count": null,
   "metadata": {},
   "outputs": [],
   "source": [
    "difference = np.zeros((len(names), len(time)))\n",
    "for i, name in enumerate(names):\n",
    "    difference[i, :] = reference_r60[0][name] - reference_r50[0][name] # - reference_r50[i, :]\n",
    "abs_err = np.linalg.norm(difference, axis=0, ord=np.inf)\n",
    "print(abs_err)\n",
    "plt.plot(abs_err)"
   ]
  }
 ],
 "metadata": {
  "kernelspec": {
   "display_name": "base",
   "language": "python",
   "name": "python3"
  },
  "language_info": {
   "codemirror_mode": {
    "name": "ipython",
    "version": 3
   },
   "file_extension": ".py",
   "mimetype": "text/x-python",
   "name": "python",
   "nbconvert_exporter": "python",
   "pygments_lexer": "ipython3",
   "version": "3.10.14"
  }
 },
 "nbformat": 4,
 "nbformat_minor": 2
}
