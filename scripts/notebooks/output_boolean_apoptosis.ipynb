{
 "cells": [
  {
   "cell_type": "markdown",
   "metadata": {},
   "source": [
    "# Boolean apoptosis"
   ]
  },
  {
   "cell_type": "code",
   "execution_count": null,
   "metadata": {},
   "outputs": [],
   "source": [
    "import matplotlib.pyplot as plt\n",
    "import numpy as np\n",
    "\n",
    "import scripts.boolean_helper\n",
    "from scripts.grid_class import GridParms\n",
    "from scripts.tree_class import Tree, plotReactionGraph\n",
    "from scripts.notebooks.output_helper import *\n",
    "\n",
    "reaction_system = scripts.boolean_helper.convertRulesToReactions(\"scripts/models/boolean_rulefiles/apoptosis.hpp\")\n",
    "\n",
    "plt.style.use(\"./scripts/notebooks/custom_style.mplstyle\")\n",
    "%matplotlib inline"
   ]
  },
  {
   "cell_type": "code",
   "execution_count": null,
   "metadata": {},
   "outputs": [],
   "source": [
    "colors = plt.rcParams['axes.prop_cycle'].by_key()['color']"
   ]
  },
  {
   "cell_type": "markdown",
   "metadata": {},
   "source": [
    "## Entropy, cuts and graphs"
   ]
  },
  {
   "cell_type": "code",
   "execution_count": null,
   "metadata": {},
   "outputs": [],
   "source": [
    "# Best\n",
    "tree = readTree(\"output/apoptosis_pb_r5_e_tau1e-2/output_t0.nc\")\n",
    "r_out = np.ones(tree.n_internal_nodes, dtype=\"int\") * 5\n",
    "tree.initialize(reaction_system, r_out)\n",
    "\n",
    "plotReactionGraph(tree.G, \"plots/apoptosis_graph_best.pdf\", colors[2])\n",
    "printEntropyCuts(tree)"
   ]
  },
  {
   "cell_type": "code",
   "execution_count": null,
   "metadata": {},
   "outputs": [],
   "source": [
    "# Reasonable\n",
    "tree = readTree(\"output/apoptosis_pr_r5_e_tau1e-2/output_t0.nc\")\n",
    "r_out = np.ones(tree.n_internal_nodes, dtype=\"int\") * 5\n",
    "tree.initialize(reaction_system, r_out)\n",
    "\n",
    "plotReactionGraph(tree.G, \"plots/apoptosis_graph_reasonable.pdf\", colors[0])\n",
    "printEntropyCuts(tree)"
   ]
  },
  {
   "cell_type": "code",
   "execution_count": null,
   "metadata": {},
   "outputs": [],
   "source": [
    "# Worst\n",
    "tree = readTree(\"output/apoptosis_pw_r5_e_tau1e-2/output_t0.nc\")\n",
    "r_out = np.ones(tree.n_internal_nodes, dtype=\"int\") * 5\n",
    "tree.initialize(reaction_system, r_out)\n",
    "\n",
    "plotReactionGraph(tree.G, \"plots/apoptosis_graph_worst.pdf\", colors[1])\n",
    "printEntropyCuts(tree)"
   ]
  },
  {
   "cell_type": "markdown",
   "metadata": {},
   "source": [
    "## Load initial data"
   ]
  },
  {
   "cell_type": "markdown",
   "metadata": {},
   "source": [
    "### Best"
   ]
  },
  {
   "cell_type": "code",
   "execution_count": null,
   "metadata": {},
   "outputs": [],
   "source": [
    "time_series = TimeSeries(\"output/apoptosis_pb_r5_e_tau1e-2\")\n",
    "time = time_series.time\n",
    "moments_pb_r5 = time_series.calculateMoments()"
   ]
  },
  {
   "cell_type": "code",
   "execution_count": null,
   "metadata": {},
   "outputs": [],
   "source": [
    "time_series = TimeSeries(\"output/apoptosis_pb_r10_e_tau1e-2\")\n",
    "time = time_series.time\n",
    "moments_pb_r10 = time_series.calculateMoments()"
   ]
  },
  {
   "cell_type": "code",
   "execution_count": null,
   "metadata": {},
   "outputs": [],
   "source": [
    "time_series = TimeSeries(\"output/apoptosis_pb_r20_e_tau1e-2\")\n",
    "time = time_series.time\n",
    "moments_pb_r20 = time_series.calculateMoments()"
   ]
  },
  {
   "cell_type": "markdown",
   "metadata": {},
   "source": [
    "### Reasonable"
   ]
  },
  {
   "cell_type": "code",
   "execution_count": null,
   "metadata": {},
   "outputs": [],
   "source": [
    "time_series = TimeSeries(\"output/apoptosis_pr_r5_e_tau1e-2\")\n",
    "time = time_series.time\n",
    "moments_pr_r5 = time_series.calculateMoments()"
   ]
  },
  {
   "cell_type": "code",
   "execution_count": null,
   "metadata": {},
   "outputs": [],
   "source": [
    "time_series = TimeSeries(\"output/apoptosis_pr_r10_e_tau1e-2\")\n",
    "time = time_series.time\n",
    "moments_pr_r10 = time_series.calculateMoments()"
   ]
  },
  {
   "cell_type": "code",
   "execution_count": null,
   "metadata": {},
   "outputs": [],
   "source": [
    "time_series = TimeSeries(\"output/apoptosis_pr_r20_e_tau1e-2\")\n",
    "time = time_series.time\n",
    "moments_pr_r20 = time_series.calculateMoments()"
   ]
  },
  {
   "cell_type": "markdown",
   "metadata": {},
   "source": [
    "### Worst"
   ]
  },
  {
   "cell_type": "code",
   "execution_count": null,
   "metadata": {},
   "outputs": [],
   "source": [
    "time_series = TimeSeries(\"output/apoptosis_pw_r5_e_tau1e-2\")\n",
    "time = time_series.time\n",
    "moments_pw_r5 = time_series.calculateMoments()"
   ]
  },
  {
   "cell_type": "code",
   "execution_count": null,
   "metadata": {},
   "outputs": [],
   "source": [
    "time_series = TimeSeries(\"output/apoptosis_pw_r10_e_tau1e-2\")\n",
    "time = time_series.time\n",
    "moments_pw_r10 = time_series.calculateMoments()"
   ]
  },
  {
   "cell_type": "code",
   "execution_count": null,
   "metadata": {},
   "outputs": [],
   "source": [
    "time_series = TimeSeries(\"output/apoptosis_pw_r20_e_tau1e-2\")\n",
    "time = time_series.time\n",
    "moments_pw_r20 = time_series.calculateMoments()"
   ]
  },
  {
   "cell_type": "markdown",
   "metadata": {},
   "source": [
    "### Reference solution"
   ]
  },
  {
   "cell_type": "code",
   "execution_count": null,
   "metadata": {},
   "outputs": [],
   "source": [
    "reference = np.load(\"scripts/reference_solutions/apoptosis_r30.npy\")"
   ]
  },
  {
   "cell_type": "markdown",
   "metadata": {},
   "source": [
    "## Plots"
   ]
  },
  {
   "cell_type": "code",
   "execution_count": null,
   "metadata": {},
   "outputs": [],
   "source": [
    "names = time_series.getSpeciesNames()\n",
    "names_lower = np.array([name.lower() for name in names])\n",
    "names = names[np.argsort(names_lower)]\n",
    "colors = plt.rcParams['axes.prop_cycle'].by_key()['color']"
   ]
  },
  {
   "cell_type": "markdown",
   "metadata": {},
   "source": [
    "### Comparison for all species"
   ]
  },
  {
   "cell_type": "code",
   "execution_count": null,
   "metadata": {},
   "outputs": [],
   "source": [
    "fig, axs = plt.subplots(7, 6, figsize=(15, 20))\n",
    "\n",
    "for i, ax in enumerate(axs.flatten()):\n",
    "    if i < 41:\n",
    "        ax.plot(np.arange(reference.shape[1]), reference[i, :], \"k.-\", label=\"reference\")\n",
    "        ax.plot(time, moments_pb_r5[0][names[i]], \":\", color=colors[2], label=\"best, $r=5$\")\n",
    "        ax.plot(time, moments_pb_r10[0][names[i]], \"-.\", color=colors[2], label=\"best, $r=10$\")\n",
    "        ax.plot(time, moments_pb_r20[0][names[i]], \"-\", color=colors[2], label=\"best, $r=20$\")\n",
    "        # ax.plot(time, moments_pb_r30[0][names[i]], \"--\", color=colors[2], label=\"best, $r=30$\")\n",
    "        ax.plot(time, moments_pr_r5[0][names[i]], \":\", color=colors[0], label=\"reasonable, $r=5$\")\n",
    "        ax.plot(time, moments_pr_r10[0][names[i]], \"-.\", color=colors[0], label=\"reasonable, $r=10$\")\n",
    "        ax.plot(time, moments_pr_r20[0][names[i]], \"-\", color=colors[0], label=\"reasonable, $r=20$\")\n",
    "        # ax.plot(time, moments_pr_r30[0][names[i]], \"--\", color=colors[0], label=\"reasonable, $r=30$\")\n",
    "        ax.plot(time, moments_pw_r5[0][names[i]], \":\", color=colors[1], label=\"worst, $r=5$\")\n",
    "        ax.plot(time, moments_pw_r10[0][names[i]], \"-.\", color=colors[1], label=\"worst, $r=10$\")\n",
    "        ax.plot(time, moments_pw_r20[0][names[i]], \"-\", color=colors[1], label=\"worst, $r=20$\")\n",
    "        # ax.plot(time, moments_pw_r30[0][names[i]], \"--\", color=colors[1], label=\"worst, $r=30$\")\n",
    "        ax.set_title(names[i])\n",
    "h, l = axs[0, 0].get_legend_handles_labels()\n",
    "axs[-1, -1].legend(h[::3], [\"reference\", \"best\", \"reasonable\", \"worst\"], loc=\"center left\")\n",
    "axs[-1, -1].axis('off')\n",
    "plt.setp(axs, ylim=[-0.05, 1.05])\n",
    "plt.tight_layout()\n",
    "plt.savefig(\"plots/apoptosis_moments.pdf\")"
   ]
  },
  {
   "cell_type": "markdown",
   "metadata": {},
   "source": [
    "### Comparison for five relevant species"
   ]
  },
  {
   "cell_type": "code",
   "execution_count": null,
   "metadata": {},
   "outputs": [],
   "source": [
    "fig, axs = plt.subplots(2, 3, figsize=(9, 5))\n",
    "relevant_species = [1, 8, 12, 15, 27, 29]\n",
    "\n",
    "ax = axs.flatten()\n",
    "for ax_i, i in enumerate(relevant_species):\n",
    "    if i < 41:\n",
    "        ax[ax_i].plot(np.arange(reference.shape[1]), reference[i, :], \"k.-\", label=\"reference\")\n",
    "        ax[ax_i].plot(time, moments_pb_r5[0][names[i]], \":\", color=colors[2], label=\"best, $r=5$\")\n",
    "        ax[ax_i].plot(time, moments_pb_r10[0][names[i]], \"-.\", color=colors[2], label=\"best, $r=10$\")\n",
    "        ax[ax_i].plot(time, moments_pb_r20[0][names[i]], \"-\", color=colors[2], label=\"best, $r=20$\")\n",
    "        # ax[ax_i].plot(time, moments_pb_r30[0][names[i]], \"--\", color=colors[2], label=\"best, $r=30$\")\n",
    "        ax[ax_i].plot(time, moments_pr_r5[0][names[i]], \":\", color=colors[0], label=\"reasonable, $r=5$\")\n",
    "        ax[ax_i].plot(time, moments_pr_r10[0][names[i]], \"-.\", color=colors[0], label=\"reasonable, $r=10$\")\n",
    "        ax[ax_i].plot(time, moments_pr_r20[0][names[i]], \"-\", color=colors[0], label=\"reasonable, $r=20$\")\n",
    "        # ax[ax_i].plot(time, moments_pr_r30[0][names[i]], \"--\", color=colors[0], label=\"reasonable, $r=30$\")\n",
    "        ax[ax_i].plot(time, moments_pw_r5[0][names[i]], \":\", color=colors[1], label=\"worst, $r=5$\")\n",
    "        ax[ax_i].plot(time, moments_pw_r10[0][names[i]], \"-.\", color=colors[1], label=\"worst, $r=10$\")\n",
    "        ax[ax_i].plot(time, moments_pw_r20[0][names[i]], \"-\", color=colors[1], label=\"worst, $r=20$\")\n",
    "        # ax[ax_i].plot(time, moments_pw_r30[0][names[i]], \"--\", color=colors[1], label=\"worst, $r=30$\")\n",
    "        ax[ax_i].set_title(names[i])\n",
    "h, l = axs[0, 0].get_legend_handles_labels()\n",
    "fig.legend(h[::3], [\"reference\", \"best\", \"reasonable\", \"worst\"], ncols=4, loc=\"center\", bbox_to_anchor=(0.5, 1.01))\n",
    "plt.setp(axs, ylim=[-0.05, 1.05])\n",
    "plt.setp(ax[:-1], xlabel=\"$t$\", ylabel=\"$\\langle x \\\\rangle$\")\n",
    "plt.tight_layout()\n",
    "plt.savefig(\"plots/apoptosis_moments_relevant_species.pdf\", bbox_inches=\"tight\")"
   ]
  },
  {
   "cell_type": "code",
   "execution_count": null,
   "metadata": {},
   "outputs": [],
   "source": [
    "fig, axs = plt.subplots(2, 3, figsize=(9, 5))\n",
    "relevant_species = [1, 8, 12, 15, 27, 29]\n",
    "\n",
    "ax = axs.flatten()\n",
    "for ax_i, i in enumerate(relevant_species):\n",
    "    if i < 41:\n",
    "        ax[ax_i].plot(time, np.abs(moments_pb_r5[0][names[i]]-reference[i, :]), \":\", color=colors[2], label=\"best, $r=5$\")\n",
    "        ax[ax_i].plot(time, np.abs(moments_pb_r10[0][names[i]]-reference[i, :]), \"-.\", color=colors[2], label=\"best, $r=10$\")\n",
    "        ax[ax_i].plot(time, np.abs(moments_pb_r20[0][names[i]]-reference[i, :]), \"-\", color=colors[2], label=\"best, $r=20$\")\n",
    "        ax[ax_i].plot(time, np.abs(moments_pr_r5[0][names[i]]-reference[i, :]), \":\", color=colors[0], label=\"reasonable, $r=5$\")\n",
    "        ax[ax_i].plot(time, np.abs(moments_pr_r10[0][names[i]]-reference[i, :]), \"-.\", color=colors[0], label=\"reasonable, $r=10$\")\n",
    "        ax[ax_i].plot(time, np.abs(moments_pr_r20[0][names[i]]-reference[i, :]), \"-\", color=colors[0], label=\"reasonable, $r=20$\")\n",
    "        ax[ax_i].plot(time, np.abs(moments_pw_r5[0][names[i]]-reference[i, :]), \":\", color=colors[1], label=\"worst, $r=5$\")\n",
    "        ax[ax_i].plot(time, np.abs(moments_pw_r10[0][names[i]]-reference[i, :]), \"-.\", color=colors[1], label=\"worst, $r=10$\")\n",
    "        ax[ax_i].plot(time, np.abs(moments_pw_r20[0][names[i]]-reference[i, :]), \"-\", color=colors[1], label=\"worst, $r=20$\")\n",
    "        ax[ax_i].set_title(names[i])\n",
    "h, l = axs[0, 0].get_legend_handles_labels()\n",
    "fig.legend(h[2::3], [\"best\", \"reasonable\", \"worst\"], ncols=3, loc=\"center\", bbox_to_anchor=(0.5, 1.01))\n",
    "plt.setp(ax[:-1], xlabel=\"$t$\", ylabel=\"$|\\langle x \\\\rangle - \\langle x_\\mathrm{{ref}} \\\\rangle|$\")\n",
    "plt.tight_layout()\n",
    "plt.savefig(\"plots/apoptosis_moments_relevant_species_err.pdf\", bbox_inches=\"tight\")"
   ]
  },
  {
   "cell_type": "markdown",
   "metadata": {},
   "source": [
    "### Total error over all species"
   ]
  },
  {
   "cell_type": "code",
   "execution_count": null,
   "metadata": {},
   "outputs": [],
   "source": [
    "def calculateAbsErr(marginal_distribution, ord=None):\n",
    "    difference = np.zeros(reference.shape)\n",
    "    for i, name in enumerate(names):\n",
    "        difference[i, :] = marginal_distribution[name] - reference[i, :]\n",
    "    abs_err = np.linalg.norm(difference, axis=0, ord=ord)\n",
    "    return abs_err"
   ]
  },
  {
   "cell_type": "code",
   "execution_count": null,
   "metadata": {},
   "outputs": [],
   "source": [
    "ord = np.inf\n",
    "\n",
    "fig, axs = plt.subplots(figsize=(5, 4))\n",
    "\n",
    "axs.plot(time, calculateAbsErr(moments_pb_r5[0], ord=ord), \":\", color=colors[2], label=\"best, $r=5$\")\n",
    "axs.plot(time, calculateAbsErr(moments_pb_r10[0], ord=ord), \"-.\", color=colors[2], label=\"best, $r=10$\")\n",
    "l0, = axs.plot(time, calculateAbsErr(moments_pb_r20[0], ord=ord), \"-\", color=colors[2], label=\"best, $r=20$\")\n",
    "axs.plot(time, calculateAbsErr(moments_pr_r5[0], ord=ord), \":\", color=colors[0], label=\"reasonable, $r=5$\")\n",
    "axs.plot(time, calculateAbsErr(moments_pr_r10[0], ord=ord), \"-.\", color=colors[0], label=\"reasonable, $r=10$\")\n",
    "l1, = axs.plot(time, calculateAbsErr(moments_pr_r20[0], ord=ord), \"-\", color=colors[0], label=\"reasonable, $r=20$\")\n",
    "axs.plot(time, calculateAbsErr(moments_pw_r5[0], ord=ord), \":\", color=colors[1], label=\"worst, $r=5$\")\n",
    "axs.plot(time, calculateAbsErr(moments_pw_r10[0], ord=ord), \"-.\", color=colors[1], label=\"worst, $r=10$\")\n",
    "l2, = axs.plot(time, calculateAbsErr(moments_pw_r20[0], ord=ord), \"-\", color=colors[1], label=\"worst, $r=20$\")\n",
    "axs.legend([l0, l1, l2], [\"best\", \"reasonable\", \"worst\"])\n",
    "axs.set_xlabel(\"$t$\")\n",
    "axs.set_ylabel(\"$\\| \\langle x_i \\\\rangle - \\langle x_{{i,\\mathrm{{ref}}}} \\\\rangle \\|_{{\\infty,i}}$\")\n",
    "plt.tight_layout()\n",
    "plt.savefig(\"plots/apoptosis_moments_err_infty.pdf\")"
   ]
  },
  {
   "cell_type": "code",
   "execution_count": null,
   "metadata": {},
   "outputs": [],
   "source": [
    "ord = None\n",
    "\n",
    "fig, axs = plt.subplots(figsize=(5, 4))\n",
    "\n",
    "axs.plot(time, calculateAbsErr(moments_pb_r5[0], ord=ord), \":\", color=colors[2], label=\"best, $r=5$\")\n",
    "axs.plot(time, calculateAbsErr(moments_pb_r10[0], ord=ord), \"-.\", color=colors[2], label=\"best, $r=10$\")\n",
    "l0, = axs.plot(time, calculateAbsErr(moments_pb_r20[0], ord=ord), \"-\", color=colors[2], label=\"best, $r=20$\")\n",
    "axs.plot(time, calculateAbsErr(moments_pr_r5[0], ord=ord), \":\", color=colors[0], label=\"reasonable, $r=5$\")\n",
    "axs.plot(time, calculateAbsErr(moments_pr_r10[0], ord=ord), \"-.\", color=colors[0], label=\"reasonable, $r=10$\")\n",
    "l1, = axs.plot(time, calculateAbsErr(moments_pr_r20[0], ord=ord), \"-\", color=colors[0], label=\"reasonable, $r=20$\")\n",
    "axs.plot(time, calculateAbsErr(moments_pw_r5[0], ord=ord), \":\", color=colors[1], label=\"worst, $r=5$\")\n",
    "axs.plot(time, calculateAbsErr(moments_pw_r10[0], ord=ord), \"-.\", color=colors[1], label=\"worst, $r=10$\")\n",
    "l2, = axs.plot(time, calculateAbsErr(moments_pw_r20[0], ord=ord), \"-\", color=colors[1], label=\"worst, $r=20$\")\n",
    "axs.legend([l0, l1, l2], [\"best\", \"reasonable\", \"worst\"])\n",
    "axs.set_xlabel(\"$t$\")\n",
    "axs.set_ylabel(\"$\\| \\langle x_i \\\\rangle - \\langle x_{{i,\\mathrm{{ref}}}} \\\\rangle \\|_{{2,i}}$\")\n",
    "plt.tight_layout()\n",
    "plt.savefig(\"plots/apoptosis_moments_err_2.pdf\")"
   ]
  }
 ],
 "metadata": {
  "kernelspec": {
   "display_name": "base",
   "language": "python",
   "name": "python3"
  },
  "language_info": {
   "codemirror_mode": {
    "name": "ipython",
    "version": 3
   },
   "file_extension": ".py",
   "mimetype": "text/x-python",
   "name": "python",
   "nbconvert_exporter": "python",
   "pygments_lexer": "ipython3",
   "version": "3.10.14"
  }
 },
 "nbformat": 4,
 "nbformat_minor": 2
}
