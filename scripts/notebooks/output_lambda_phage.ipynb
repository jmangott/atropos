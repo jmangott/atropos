{
 "cells": [
  {
   "cell_type": "markdown",
   "metadata": {},
   "source": [
    "# Lambda phage"
   ]
  },
  {
   "cell_type": "code",
   "execution_count": 39,
   "metadata": {},
   "outputs": [],
   "source": [
    "import matplotlib.gridspec as gridspec\n",
    "import matplotlib.pyplot as plt\n",
    "import numpy as np\n",
    "\n",
    "from scripts.grid_class import GridParms\n",
    "from scripts.tree_class import Tree\n",
    "from scripts.notebooks.output_helper import *\n",
    "from scripts.reference_solutions.ssa_helper import SSASol\n",
    "\n",
    "plt.style.use(\"./scripts/notebooks/custom_style.mplstyle\")\n",
    "%matplotlib inline"
   ]
  },
  {
   "cell_type": "code",
   "execution_count": 40,
   "metadata": {},
   "outputs": [],
   "source": [
    "slice_vec = np.zeros(5)"
   ]
  },
  {
   "cell_type": "markdown",
   "metadata": {},
   "source": [
    "## Load initial data"
   ]
  },
  {
   "cell_type": "code",
   "execution_count": 41,
   "metadata": {},
   "outputs": [],
   "source": [
    "with np.load(\"scripts/reference_solutions/lp_ode_ref_r5.npz\") as data:\n",
    "    P_exact = data[\"P_full\"]\n",
    "    P_best_approximation_r5 = data[\"P_best_approximation\"]\n",
    "    walltime_exact = data[\"wall_time\"]"
   ]
  },
  {
   "cell_type": "code",
   "execution_count": 42,
   "metadata": {},
   "outputs": [],
   "source": [
    "with np.load(\"scripts/reference_solutions/lambda_phage_ssa_1e+04.npz\") as data:\n",
    "    ssa_1e4 = data[\"result\"]\n",
    "    walltime_ssa_1e4 = data[\"wall_time\"]\n",
    "\n",
    "ssa_1e4_sol = SSASol(ssa_1e4)\n",
    "P_ssa_1e4 = ssa_1e4_sol.calculateFullDistribution()"
   ]
  },
  {
   "cell_type": "code",
   "execution_count": 43,
   "metadata": {},
   "outputs": [],
   "source": [
    "with np.load(\"scripts/reference_solutions/lambda_phage_ssa_1e+05.npz\") as data:\n",
    "    ssa_1e5 = data[\"result\"]\n",
    "    walltime_ssa_1e5 = data[\"wall_time\"]\n",
    "\n",
    "ssa_1e5_sol = SSASol(ssa_1e5)\n",
    "P_ssa_1e5 = ssa_1e5_sol.calculateFullDistribution()"
   ]
  },
  {
   "cell_type": "code",
   "execution_count": 44,
   "metadata": {},
   "outputs": [],
   "source": [
    "with np.load(\"scripts/reference_solutions/lambda_phage_ssa_1e+06.npz\") as data:\n",
    "    ssa_1e6 = data[\"result\"]\n",
    "    walltime_ssa_1e6 = data[\"wall_time\"]\n",
    "\n",
    "ssa_1e6_sol = SSASol(ssa_1e6)\n",
    "P_ssa_1e6 = ssa_1e6_sol.calculateFullDistribution()"
   ]
  },
  {
   "cell_type": "markdown",
   "metadata": {},
   "source": [
    "## Comparison of TTN and SSA results with matrix integrator"
   ]
  },
  {
   "cell_type": "markdown",
   "metadata": {},
   "source": [
    "### Load data"
   ]
  },
  {
   "cell_type": "markdown",
   "metadata": {},
   "source": [
    "#### Get walltimes"
   ]
  },
  {
   "cell_type": "code",
   "execution_count": 45,
   "metadata": {},
   "outputs": [],
   "source": [
    "time_series = TimeSeries(\"output/lambda_phage_p0_r3-3_e_tau1e-3\")\n",
    "walltime_p0_r_3_3 = time_series.getWallTime()"
   ]
  },
  {
   "cell_type": "code",
   "execution_count": 46,
   "metadata": {},
   "outputs": [],
   "source": [
    "time_series = TimeSeries(\"output/lambda_phage_p0_r5-4_e_tau1e-3\")\n",
    "walltime_p0_r_5_4 = time_series.getWallTime()"
   ]
  },
  {
   "cell_type": "code",
   "execution_count": 47,
   "metadata": {},
   "outputs": [],
   "source": [
    "time_series = TimeSeries(\"output/lambda_phage_p0_r5-5_e_tau1e-3\")\n",
    "walltime_p0_r_5_5 = time_series.getWallTime()"
   ]
  },
  {
   "cell_type": "code",
   "execution_count": 48,
   "metadata": {},
   "outputs": [],
   "source": [
    "time_series = TimeSeries(\"output/lambda_phage_p0_r6-6_e_tau1e-3\")\n",
    "walltime_p0_r_6_6 = time_series.getWallTime()"
   ]
  },
  {
   "cell_type": "code",
   "execution_count": 49,
   "metadata": {},
   "outputs": [],
   "source": [
    "time_series = TimeSeries(\"output/lambda_phage_pfull_r5_e_tau1e-3\")\n",
    "walltime_pfull = time_series.getWallTime()"
   ]
  },
  {
   "cell_type": "code",
   "execution_count": 50,
   "metadata": {},
   "outputs": [],
   "source": [
    "walltimes = [walltime_exact, walltime_ssa_1e6, walltime_ssa_1e5, walltime_ssa_1e4, walltime_p0_r_6_6, walltime_p0_r_5_5, walltime_p0_r_5_4, walltime_p0_r_3_3]\n",
    "labels = [\"exact\", \"$10^6$ runs\", \"$10^5$ runs\", \"$10^4$ runs\", \"$r = (6, 6)$\", \"$r = (5, 5)$\", \"$r = (5, 4)$\", \"$r = (3, 3)$\"]\n",
    "colors = plt.rcParams['axes.prop_cycle'].by_key()['color']\n",
    "color = [\"grey\", colors[1], colors[1], colors[1], colors[0], colors[0], colors[0], colors[0]]\n",
    "bar_labels = ['_exact', 'SSA', '_SSA', '_SSA', 'PS-TTN', '_PS-TTN', '_PS-TTN', '_PS-TTN']"
   ]
  },
  {
   "cell_type": "markdown",
   "metadata": {},
   "source": [
    "### Plots"
   ]
  },
  {
   "cell_type": "markdown",
   "metadata": {},
   "source": [
    "#### Error between TTN integrator and the matrix integrator reference solution"
   ]
  },
  {
   "cell_type": "code",
   "execution_count": 51,
   "metadata": {},
   "outputs": [],
   "source": [
    "time_series = TimeSeries(\"output/lambda_phage_p0_r3-3_e_tau1e-3\")\n",
    "time = time_series.time\n",
    "P_p0_r3_3_tau_1e3 = time_series.calculateFullDistribution()\n",
    "err_r_3_3 = np.linalg.norm(P_p0_r3_3_tau_1e3 - P_exact, axis=1)\n",
    "rel_err_r_3_3 = err_r_3_3 / np.linalg.norm(P_exact, axis=1)\n",
    "\n",
    "time_series = TimeSeries(\"output/lambda_phage_p0_r5-4_e_tau1e-3\")\n",
    "P_p0_r5_4_tau_1e3 = time_series.calculateFullDistribution()\n",
    "err_r_5_4 = np.linalg.norm(P_p0_r5_4_tau_1e3 - P_exact, axis=1)\n",
    "rel_err_r_5_4 = err_r_5_4 / np.linalg.norm(P_exact, axis=1)\n",
    "\n",
    "time_series = TimeSeries(\"output/lambda_phage_p0_r5-5_e_tau1e-3\")\n",
    "P_p0_r5_5_tau_1e3 = time_series.calculateFullDistribution()\n",
    "err_r_5_5 = np.linalg.norm(P_p0_r5_5_tau_1e3 - P_exact, axis=1)\n",
    "rel_err_r_5_5 = err_r_5_5 / np.linalg.norm(P_exact, axis=1)\n",
    "\n",
    "time_series = TimeSeries(\"output/lambda_phage_p0_r6-6_e_tau1e-3\")\n",
    "P_p0_r6_6_tau_1e3 = time_series.calculateFullDistribution()\n",
    "err_r_6_6 = np.linalg.norm(P_p0_r6_6_tau_1e3 - P_exact, axis=1)\n",
    "rel_err_r_6_6 = err_r_6_6 / np.linalg.norm(P_exact, axis=1)"
   ]
  },
  {
   "cell_type": "code",
   "execution_count": 52,
   "metadata": {},
   "outputs": [],
   "source": [
    "def calculateSSAError(P_ssa, P_exact, ssa_sol):\n",
    "    grid_liml = np.array([0, 0, 0, 0 ,0], dtype=\"int64\")\n",
    "    grid_n = np.array([16, 41, 11, 11, 11], dtype=\"int64\")\n",
    "\n",
    "    n_min = np.amax(np.stack((grid_liml, ssa_sol.n_min)), axis=0)\n",
    "    n_max = np.amin(np.stack((grid_n + grid_liml, ssa_sol.n_max)), axis=0)\n",
    "    n = n_max - n_min\n",
    "    dx = np.prod(n)\n",
    "    t = P_ssa.shape[0]\n",
    "    P_ssa_red = np.zeros((t, dx))\n",
    "    P_exact_red = np.zeros((t, dx))\n",
    "\n",
    "    vec_index = np.zeros(n.size, dtype=\"int64\")\n",
    "    for i in range(P_exact.shape[1]):\n",
    "        if np.all(vec_index < n):\n",
    "            new_index = vecIndexToCombIndex(vec_index, n)\n",
    "            P_exact_red[:, new_index] = P_exact[:, i]\n",
    "        incrVecIndex(vec_index, grid_n, grid_n.size)\n",
    "\n",
    "    vec_index = np.zeros(n.size, dtype=\"int64\")\n",
    "    for i in range(P_ssa.shape[1]):\n",
    "        if np.all(vec_index < n):\n",
    "            new_index = vecIndexToCombIndex(vec_index, n)\n",
    "            P_ssa_red[:, new_index] = P_ssa[:, i]\n",
    "        incrVecIndex(vec_index, ssa_sol.n, ssa_sol.n.size)\n",
    "\n",
    "    return np.linalg.norm(P_ssa_red - P_exact_red, axis=1)"
   ]
  },
  {
   "cell_type": "code",
   "execution_count": 53,
   "metadata": {},
   "outputs": [],
   "source": [
    "err_ssa_1e4 = calculateSSAError(P_ssa_1e4, P_exact, ssa_1e4_sol)\n",
    "err_ssa_1e5 = calculateSSAError(P_ssa_1e5, P_exact, ssa_1e5_sol)\n",
    "err_ssa_1e6 = calculateSSAError(P_ssa_1e6, P_exact, ssa_1e6_sol)"
   ]
  },
  {
   "cell_type": "code",
   "execution_count": 54,
   "metadata": {},
   "outputs": [],
   "source": [
    "err_best_approximation_r5 = np.linalg.norm(P_best_approximation_r5 - P_exact, axis=1)"
   ]
  },
  {
   "cell_type": "markdown",
   "metadata": {},
   "source": [
    "### Plots"
   ]
  },
  {
   "cell_type": "code",
   "execution_count": null,
   "metadata": {},
   "outputs": [],
   "source": [
    "gs = gridspec.GridSpec(1, 30)\n",
    "fig = plt.figure(figsize=(8.5, 3))\n",
    "\n",
    "general_labels = [\"best-approximation ($r=5$)\"]\n",
    "\n",
    "ax0 = plt.subplot(gs[0, :9])\n",
    "ax0.plot(time[1:], err_r_3_3[1:], '.-', label=\"$r = (3, 3)$\")\n",
    "ax0.plot(time[1:], err_r_5_4[1:], '.-', label=\"$r = (5, 4)$\")\n",
    "ax0.plot(time[1:], err_r_5_5[1:], '.-', label=\"$r = (5, 5)$\")\n",
    "ax0.plot(time[1:], err_r_6_6[1:], '.-', label=\"$r = (6, 6)$\")\n",
    "l1, = ax0.plot(time[1:], err_best_approximation_r5[1:], 'k:')\n",
    "\n",
    "ax0.set_yscale(\"log\")\n",
    "ax0.set_xlabel(\"$t$\")\n",
    "ax0.legend(ncols=1)\n",
    "ax0.set_title(\"$\\Vert P^\\mathrm{{TTN}}(t,\\mathbf{{x}})-P^\\mathrm{{ref}}(t,\\mathbf{{x}}) \\Vert$\")\n",
    "\n",
    "ax1 = plt.subplot(gs[0, 9:18])\n",
    "ax1.plot(time[1:], err_ssa_1e4[1:], 'x-', label=\"$10^4$ runs\")\n",
    "ax1.plot(time[1:], err_ssa_1e5[1:], 'x-', label=\"$10^5$ runs\")\n",
    "ax1.plot(time[1:], err_ssa_1e6[1:], 'x-', label=\"$10^6$ runs\")\n",
    "ax1.plot(time[1:], err_best_approximation_r5[1:], 'k:')\n",
    "\n",
    "ax1.set_yscale(\"log\")\n",
    "ax1.set_xlabel(\"$t$\")\n",
    "ax1.legend(ncols=1)\n",
    "ax1.set_title(\"$\\Vert P^\\mathrm{{SSA}}(t,\\mathbf{{x}})-P^\\mathrm{{ref}}(t,\\mathbf{{x}}) \\Vert$\")\n",
    "ax1.set_yticklabels([])\n",
    "\n",
    "plt.setp((ax0, ax1), ylim=[1e-4, 2e-1], xticks=[1, 4, 7, 10])\n",
    "\n",
    "ax2 = plt.subplot(gs[0:, 22:])\n",
    "ax2.barh(labels, walltimes, label=bar_labels, color=color)\n",
    "ax2.set_xscale(\"log\")\n",
    "ax2.set_xlabel(\"wall time [$\\mathrm{{s}}$]\")\n",
    "ax2.legend()\n",
    "\n",
    "plt.subplots_adjust(wspace=0.3)\n",
    "plt.savefig(\"plots/lambda_phage_comparison_ttn_ssa.pdf\", bbox_inches=\"tight\");"
   ]
  },
  {
   "cell_type": "markdown",
   "metadata": {},
   "source": [
    "## Error depending on time step size"
   ]
  },
  {
   "cell_type": "code",
   "execution_count": 56,
   "metadata": {},
   "outputs": [],
   "source": [
    "dm_max_r_6_6 = []\n",
    "dm_max_r_5_5 = []\n",
    "dm_max_r_5_4 = []\n",
    "dm_max_r_3_3 = []\n",
    "dm_max_r_6_6_i = []\n",
    "\n",
    "err_r_6_6 = []\n",
    "err_r_5_5 = []\n",
    "err_r_5_4 = []\n",
    "err_r_3_3 = []\n",
    "err_r_6_6_i = []\n",
    "\n",
    "tau = []\n",
    "\n",
    "time_series = TimeSeries(\"output/lambda_phage_p0_r5-5_e_tau5e-1\")\n",
    "dm_max_r_5_5.append(np.abs(time_series.getMaxMassErr()))\n",
    "P_ttn = time_series.calculateFullDistribution()\n",
    "err_r_5_5.append(np.linalg.norm(P_ttn[-1] - P_exact[-1], ord=None))\n",
    "\n",
    "time_series = TimeSeries(\"output/lambda_phage_p0_r5-4_e_tau5e-1\")\n",
    "dm_max_r_5_4.append(np.abs(time_series.getMaxMassErr()))\n",
    "P_ttn = time_series.calculateFullDistribution()\n",
    "err_r_5_4.append(np.linalg.norm(P_ttn[-1] - P_exact[-1], ord=None))\n",
    "\n",
    "time_series = TimeSeries(\"output/lambda_phage_p0_r3-3_e_tau5e-1\")\n",
    "dm_max_r_3_3.append(np.abs(time_series.getMaxMassErr()))\n",
    "P_ttn = time_series.calculateFullDistribution()\n",
    "err_r_3_3.append(np.linalg.norm(P_ttn[-1] - P_exact[-1], ord=None))\n",
    "\n",
    "time_series = TimeSeries(\"output/lambda_phage_p0_r6-6_e_tau5e-1\")\n",
    "dm_max_r_6_6.append(np.abs(time_series.getMaxMassErr()))\n",
    "P_ttn = time_series.calculateFullDistribution()\n",
    "err_r_6_6.append(np.linalg.norm(P_ttn[-1] - P_exact[-1], ord=None))\n",
    "\n",
    "time_series = TimeSeries(\"output/lambda_phage_p0_r6-6_i_tau5e-1\")\n",
    "dm_max_r_6_6_i.append(np.abs(time_series.getMaxMassErr()))\n",
    "P_ttn = time_series.calculateFullDistribution()\n",
    "err_r_6_6_i.append(np.linalg.norm(P_ttn[-1] - P_exact[-1], ord=None))\n",
    "tau.append(time_series.getTau())\n",
    "\n",
    "\n",
    "time_series = TimeSeries(\"output/lambda_phage_p0_r5-5_e_tau2e-1\")\n",
    "dm_max_r_5_5.append(np.abs(time_series.getMaxMassErr()))\n",
    "P_ttn = time_series.calculateFullDistribution()\n",
    "err_r_5_5.append(np.linalg.norm(P_ttn[-1] - P_exact[-1], ord=None))\n",
    "\n",
    "time_series = TimeSeries(\"output/lambda_phage_p0_r5-4_e_tau2e-1\")\n",
    "dm_max_r_5_4.append(np.abs(time_series.getMaxMassErr()))\n",
    "P_ttn = time_series.calculateFullDistribution()\n",
    "err_r_5_4.append(np.linalg.norm(P_ttn[-1] - P_exact[-1], ord=None))\n",
    "\n",
    "time_series = TimeSeries(\"output/lambda_phage_p0_r3-3_e_tau2e-1\")\n",
    "dm_max_r_3_3.append(np.abs(time_series.getMaxMassErr()))\n",
    "P_ttn = time_series.calculateFullDistribution()\n",
    "err_r_3_3.append(np.linalg.norm(P_ttn[-1] - P_exact[-1], ord=None))\n",
    "\n",
    "time_series = TimeSeries(\"output/lambda_phage_p0_r6-6_e_tau2e-1\")\n",
    "dm_max_r_6_6.append(np.abs(time_series.getMaxMassErr()))\n",
    "P_ttn = time_series.calculateFullDistribution()\n",
    "err_r_6_6.append(np.linalg.norm(P_ttn[-1] - P_exact[-1], ord=None))\n",
    "\n",
    "time_series = TimeSeries(\"output/lambda_phage_p0_r6-6_i_tau2e-1\")\n",
    "dm_max_r_6_6_i.append(np.abs(time_series.getMaxMassErr()))\n",
    "P_ttn = time_series.calculateFullDistribution()\n",
    "err_r_6_6_i.append(np.linalg.norm(P_ttn[-1] - P_exact[-1], ord=None))\n",
    "tau.append(time_series.getTau())\n",
    "\n",
    "\n",
    "time_series = TimeSeries(\"output/lambda_phage_p0_r5-5_e_tau1e-1\")\n",
    "dm_max_r_5_5.append(np.abs(time_series.getMaxMassErr()))\n",
    "P_ttn = time_series.calculateFullDistribution()\n",
    "err_r_5_5.append(np.linalg.norm(P_ttn[-1] - P_exact[-1], ord=None))\n",
    "\n",
    "time_series = TimeSeries(\"output/lambda_phage_p0_r5-4_e_tau1e-1\")\n",
    "dm_max_r_5_4.append(np.abs(time_series.getMaxMassErr()))\n",
    "P_ttn = time_series.calculateFullDistribution()\n",
    "err_r_5_4.append(np.linalg.norm(P_ttn[-1] - P_exact[-1], ord=None))\n",
    "\n",
    "time_series = TimeSeries(\"output/lambda_phage_p0_r3-3_e_tau1e-1\")\n",
    "dm_max_r_3_3.append(np.abs(time_series.getMaxMassErr()))\n",
    "P_ttn = time_series.calculateFullDistribution()\n",
    "err_r_3_3.append(np.linalg.norm(P_ttn[-1] - P_exact[-1], ord=None))\n",
    "\n",
    "time_series = TimeSeries(\"output/lambda_phage_p0_r6-6_e_tau1e-1\")\n",
    "dm_max_r_6_6.append(np.abs(time_series.getMaxMassErr()))\n",
    "P_ttn = time_series.calculateFullDistribution()\n",
    "err_r_6_6.append(np.linalg.norm(P_ttn[-1] - P_exact[-1], ord=None))\n",
    "\n",
    "time_series = TimeSeries(\"output/lambda_phage_p0_r6-6_i_tau1e-1\")\n",
    "dm_max_r_6_6_i.append(np.abs(time_series.getMaxMassErr()))\n",
    "P_ttn = time_series.calculateFullDistribution()\n",
    "err_r_6_6_i.append(np.linalg.norm(P_ttn[-1] - P_exact[-1], ord=None))\n",
    "tau.append(time_series.getTau())\n",
    "\n",
    "\n",
    "time_series = TimeSeries(\"output/lambda_phage_p0_r5-5_e_tau5e-2\")\n",
    "dm_max_r_5_5.append(np.abs(time_series.getMaxMassErr()))\n",
    "P_ttn = time_series.calculateFullDistribution()\n",
    "err_r_5_5.append(np.linalg.norm(P_ttn[-1] - P_exact[-1], ord=None))\n",
    "\n",
    "time_series = TimeSeries(\"output/lambda_phage_p0_r5-4_e_tau5e-2\")\n",
    "dm_max_r_5_4.append(np.abs(time_series.getMaxMassErr()))\n",
    "P_ttn = time_series.calculateFullDistribution()\n",
    "err_r_5_4.append(np.linalg.norm(P_ttn[-1] - P_exact[-1], ord=None))\n",
    "\n",
    "time_series = TimeSeries(\"output/lambda_phage_p0_r3-3_e_tau5e-2\")\n",
    "dm_max_r_3_3.append(np.abs(time_series.getMaxMassErr()))\n",
    "P_ttn = time_series.calculateFullDistribution()\n",
    "err_r_3_3.append(np.linalg.norm(P_ttn[-1] - P_exact[-1], ord=None))\n",
    "\n",
    "time_series = TimeSeries(\"output/lambda_phage_p0_r6-6_e_tau5e-2\")\n",
    "dm_max_r_6_6.append(np.abs(time_series.getMaxMassErr()))\n",
    "P_ttn = time_series.calculateFullDistribution()\n",
    "err_r_6_6.append(np.linalg.norm(P_ttn[-1] - P_exact[-1], ord=None))\n",
    "\n",
    "time_series = TimeSeries(\"output/lambda_phage_p0_r6-6_i_tau5e-2\")\n",
    "dm_max_r_6_6_i.append(np.abs(time_series.getMaxMassErr()))\n",
    "P_ttn = time_series.calculateFullDistribution()\n",
    "err_r_6_6_i.append(np.linalg.norm(P_ttn[-1] - P_exact[-1], ord=None))\n",
    "tau.append(time_series.getTau())\n",
    "\n",
    "\n",
    "time_series = TimeSeries(\"output/lambda_phage_p0_r5-5_e_tau2e-2\")\n",
    "dm_max_r_5_5.append(np.abs(time_series.getMaxMassErr()))\n",
    "P_ttn = time_series.calculateFullDistribution()\n",
    "err_r_5_5.append(np.linalg.norm(P_ttn[-1] - P_exact[-1], ord=None))\n",
    "\n",
    "time_series = TimeSeries(\"output/lambda_phage_p0_r5-4_e_tau2e-2\")\n",
    "dm_max_r_5_4.append(np.abs(time_series.getMaxMassErr()))\n",
    "P_ttn = time_series.calculateFullDistribution()\n",
    "err_r_5_4.append(np.linalg.norm(P_ttn[-1] - P_exact[-1], ord=None))\n",
    "\n",
    "time_series = TimeSeries(\"output/lambda_phage_p0_r3-3_e_tau2e-2\")\n",
    "dm_max_r_3_3.append(np.abs(time_series.getMaxMassErr()))\n",
    "P_ttn = time_series.calculateFullDistribution()\n",
    "err_r_3_3.append(np.linalg.norm(P_ttn[-1] - P_exact[-1], ord=None))\n",
    "\n",
    "time_series = TimeSeries(\"output/lambda_phage_p0_r6-6_e_tau2e-2\")\n",
    "dm_max_r_6_6.append(np.abs(time_series.getMaxMassErr()))\n",
    "P_ttn = time_series.calculateFullDistribution()\n",
    "err_r_6_6.append(np.linalg.norm(P_ttn[-1] - P_exact[-1], ord=None))\n",
    "\n",
    "time_series = TimeSeries(\"output/lambda_phage_p0_r6-6_i_tau2e-2\")\n",
    "dm_max_r_6_6_i.append(np.abs(time_series.getMaxMassErr()))\n",
    "P_ttn = time_series.calculateFullDistribution()\n",
    "err_r_6_6_i.append(np.linalg.norm(P_ttn[-1] - P_exact[-1], ord=None))\n",
    "tau.append(time_series.getTau())\n",
    "\n",
    "\n",
    "time_series = TimeSeries(\"output/lambda_phage_p0_r5-5_e_tau1e-2\")\n",
    "dm_max_r_5_5.append(np.abs(time_series.getMaxMassErr()))\n",
    "P_ttn = time_series.calculateFullDistribution()\n",
    "err_r_5_5.append(np.linalg.norm(P_ttn[-1] - P_exact[-1], ord=None))\n",
    "\n",
    "time_series = TimeSeries(\"output/lambda_phage_p0_r5-4_e_tau1e-2\")\n",
    "dm_max_r_5_4.append(np.abs(time_series.getMaxMassErr()))\n",
    "P_ttn = time_series.calculateFullDistribution()\n",
    "err_r_5_4.append(np.linalg.norm(P_ttn[-1] - P_exact[-1], ord=None))\n",
    "\n",
    "time_series = TimeSeries(\"output/lambda_phage_p0_r3-3_e_tau1e-2\")\n",
    "dm_max_r_3_3.append(np.abs(time_series.getMaxMassErr()))\n",
    "P_ttn = time_series.calculateFullDistribution()\n",
    "err_r_3_3.append(np.linalg.norm(P_ttn[-1] - P_exact[-1], ord=None))\n",
    "\n",
    "time_series = TimeSeries(\"output/lambda_phage_p0_r6-6_e_tau1e-2\")\n",
    "dm_max_r_6_6.append(np.abs(time_series.getMaxMassErr()))\n",
    "P_ttn = time_series.calculateFullDistribution()\n",
    "err_r_6_6.append(np.linalg.norm(P_ttn[-1] - P_exact[-1], ord=None))\n",
    "\n",
    "time_series = TimeSeries(\"output/lambda_phage_p0_r6-6_i_tau1e-2\")\n",
    "dm_max_r_6_6_i.append(np.abs(time_series.getMaxMassErr()))\n",
    "P_ttn = time_series.calculateFullDistribution()\n",
    "err_r_6_6_i.append(np.linalg.norm(P_ttn[-1] - P_exact[-1], ord=None))\n",
    "tau.append(time_series.getTau())\n",
    "\n",
    "\n",
    "time_series = TimeSeries(\"output/lambda_phage_p0_r5-5_e_tau5e-3\")\n",
    "dm_max_r_5_5.append(np.abs(time_series.getMaxMassErr()))\n",
    "P_ttn = time_series.calculateFullDistribution()\n",
    "err_r_5_5.append(np.linalg.norm(P_ttn[-1] - P_exact[-1], ord=None))\n",
    "\n",
    "time_series = TimeSeries(\"output/lambda_phage_p0_r5-4_e_tau5e-3\")\n",
    "dm_max_r_5_4.append(np.abs(time_series.getMaxMassErr()))\n",
    "P_ttn = time_series.calculateFullDistribution()\n",
    "err_r_5_4.append(np.linalg.norm(P_ttn[-1] - P_exact[-1], ord=None))\n",
    "\n",
    "time_series = TimeSeries(\"output/lambda_phage_p0_r3-3_e_tau5e-3\")\n",
    "dm_max_r_3_3.append(np.abs(time_series.getMaxMassErr()))\n",
    "P_ttn = time_series.calculateFullDistribution()\n",
    "err_r_3_3.append(np.linalg.norm(P_ttn[-1] - P_exact[-1], ord=None))\n",
    "\n",
    "time_series = TimeSeries(\"output/lambda_phage_p0_r6-6_e_tau5e-3\")\n",
    "dm_max_r_6_6.append(np.abs(time_series.getMaxMassErr()))\n",
    "P_ttn = time_series.calculateFullDistribution()\n",
    "err_r_6_6.append(np.linalg.norm(P_ttn[-1] - P_exact[-1], ord=None))\n",
    "\n",
    "time_series = TimeSeries(\"output/lambda_phage_p0_r6-6_i_tau5e-3\")\n",
    "dm_max_r_6_6_i.append(np.abs(time_series.getMaxMassErr()))\n",
    "P_ttn = time_series.calculateFullDistribution()\n",
    "err_r_6_6_i.append(np.linalg.norm(P_ttn[-1] - P_exact[-1], ord=None))\n",
    "tau.append(time_series.getTau())\n",
    "\n",
    "\n",
    "time_series = TimeSeries(\"output/lambda_phage_p0_r5-5_e_tau2e-3\")\n",
    "dm_max_r_5_5.append(np.abs(time_series.getMaxMassErr()))\n",
    "P_ttn = time_series.calculateFullDistribution()\n",
    "err_r_5_5.append(np.linalg.norm(P_ttn[-1] - P_exact[-1], ord=None))\n",
    "\n",
    "time_series = TimeSeries(\"output/lambda_phage_p0_r5-4_e_tau2e-3\")\n",
    "dm_max_r_5_4.append(np.abs(time_series.getMaxMassErr()))\n",
    "P_ttn = time_series.calculateFullDistribution()\n",
    "err_r_5_4.append(np.linalg.norm(P_ttn[-1] - P_exact[-1], ord=None))\n",
    "\n",
    "time_series = TimeSeries(\"output/lambda_phage_p0_r3-3_e_tau2e-3\")\n",
    "dm_max_r_3_3.append(np.abs(time_series.getMaxMassErr()))\n",
    "P_ttn = time_series.calculateFullDistribution()\n",
    "err_r_3_3.append(np.linalg.norm(P_ttn[-1] - P_exact[-1], ord=None))\n",
    "\n",
    "time_series = TimeSeries(\"output/lambda_phage_p0_r6-6_e_tau2e-3\")\n",
    "dm_max_r_6_6.append(np.abs(time_series.getMaxMassErr()))\n",
    "P_ttn = time_series.calculateFullDistribution()\n",
    "err_r_6_6.append(np.linalg.norm(P_ttn[-1] - P_exact[-1], ord=None))\n",
    "\n",
    "time_series = TimeSeries(\"output/lambda_phage_p0_r6-6_i_tau2e-3\")\n",
    "dm_max_r_6_6_i.append(np.abs(time_series.getMaxMassErr()))\n",
    "P_ttn = time_series.calculateFullDistribution()\n",
    "err_r_6_6_i.append(np.linalg.norm(P_ttn[-1] - P_exact[-1], ord=None))\n",
    "tau.append(time_series.getTau())\n",
    "\n",
    "\n",
    "time_series = TimeSeries(\"output/lambda_phage_p0_r5-5_e_tau1e-3\")\n",
    "dm_max_r_5_5.append(np.abs(time_series.getMaxMassErr()))\n",
    "P_ttn = time_series.calculateFullDistribution()\n",
    "err_r_5_5.append(np.linalg.norm(P_ttn[-1] - P_exact[-1], ord=None))\n",
    "\n",
    "time_series = TimeSeries(\"output/lambda_phage_p0_r5-4_e_tau1e-3\")\n",
    "dm_max_r_5_4.append(np.abs(time_series.getMaxMassErr()))\n",
    "P_ttn = time_series.calculateFullDistribution()\n",
    "err_r_5_4.append(np.linalg.norm(P_ttn[-1] - P_exact[-1], ord=None))\n",
    "\n",
    "time_series = TimeSeries(\"output/lambda_phage_p0_r3-3_e_tau1e-3\")\n",
    "dm_max_r_3_3.append(np.abs(time_series.getMaxMassErr()))\n",
    "P_ttn = time_series.calculateFullDistribution()\n",
    "err_r_3_3.append(np.linalg.norm(P_ttn[-1] - P_exact[-1], ord=None))\n",
    "\n",
    "time_series = TimeSeries(\"output/lambda_phage_p0_r6-6_e_tau1e-3\")\n",
    "dm_max_r_6_6.append(np.abs(time_series.getMaxMassErr()))\n",
    "P_ttn = time_series.calculateFullDistribution()\n",
    "err_r_6_6.append(np.linalg.norm(P_ttn[-1] - P_exact[-1], ord=None))\n",
    "\n",
    "time_series = TimeSeries(\"output/lambda_phage_p0_r6-6_i_tau1e-3\")\n",
    "dm_max_r_6_6_i.append(np.abs(time_series.getMaxMassErr()))\n",
    "P_ttn = time_series.calculateFullDistribution()\n",
    "err_r_6_6_i.append(np.linalg.norm(P_ttn[-1] - P_exact[-1], ord=None))\n",
    "tau.append(time_series.getTau())"
   ]
  },
  {
   "cell_type": "markdown",
   "metadata": {},
   "source": [
    "### Plot"
   ]
  },
  {
   "cell_type": "code",
   "execution_count": null,
   "metadata": {},
   "outputs": [],
   "source": [
    "fig, (ax1, ax2) = plt.subplots(1, 2, figsize=(7, 3), sharex=\"row\")\n",
    "t = np.linspace(0.005, 0.5)\n",
    "\n",
    "general_labels = [\"$r=(3, 3)$\", \"$r=(5, 4)$\", \"$r=(5, 5)$\", \"$r=(6, 6)$\"]\n",
    "\n",
    "l1, = ax1.loglog(tau, err_r_3_3, '.-')\n",
    "l2, = ax1.loglog(tau, err_r_5_4, '.-')\n",
    "l3, = ax1.loglog(tau, err_r_5_5, '.-')\n",
    "l4, = ax1.loglog(tau, err_r_6_6, '.-')\n",
    "ax1.loglog(tau, err_r_6_6_i, '-.', color=plt.rcParams['axes.prop_cycle'].by_key()['color'][3])\n",
    "ax1.loglog(t, t**1*0.02, 'k:', label=\"$\\Delta t$\")\n",
    "ax1.set_xlabel(\"$\\Delta t$\")\n",
    "ax1.set_ylabel(\"$\\Vert P^\\mathrm{{TTN}}(10,\\mathbf{{x}})-P^\\mathrm{{ref}}(10,\\mathbf{{x}}) \\Vert$\")\n",
    "ax1.set_ylim([5e-5, 5e1])\n",
    "ax1.legend()\n",
    "\n",
    "ax2.loglog(tau, dm_max_r_3_3, '.-')\n",
    "ax2.loglog(tau, dm_max_r_5_4, '.-')\n",
    "ax2.loglog(tau, dm_max_r_5_5, '.-')\n",
    "ax2.loglog(tau, dm_max_r_6_6, '.-')\n",
    "ax2.loglog(tau, dm_max_r_6_6_i, '-.', color=plt.rcParams['axes.prop_cycle'].by_key()['color'][3])\n",
    "ax2.loglog(t, t**2*0.05, 'k--', label=\"$(\\Delta t)^2$\")\n",
    "ax2.set_xlabel(\"$\\Delta t$\")\n",
    "ax2.set_ylabel(\"$\\max_t(|\\Delta m(t)|)$\")\n",
    "ax2.set_ylim([5e-7, 5e1])\n",
    "ax2.legend()\n",
    "\n",
    "fig.legend([l1, l2, l3, l4], general_labels, loc=\"upper center\", ncol=5)\n",
    "plt.subplots_adjust(wspace=0.4)\n",
    "plt.savefig(\"plots/lambda_phage_time_err_ttn.pdf\", bbox_inches=\"tight\");"
   ]
  },
  {
   "cell_type": "markdown",
   "metadata": {},
   "source": [
    "## Comparison with deterministic solution"
   ]
  },
  {
   "cell_type": "code",
   "execution_count": 58,
   "metadata": {},
   "outputs": [],
   "source": [
    "time_series = TimeSeries(\"output/lambda_phage_p0_r5-5_e_tau1e-3\")\n",
    "concentrations = time_series.calculateMoments()\n",
    "t = time_series.time"
   ]
  },
  {
   "cell_type": "code",
   "execution_count": 59,
   "metadata": {},
   "outputs": [],
   "source": [
    "from scripts.models.lambda_phage_gillespy import model\n",
    "concentrations_ode = model.run(algorithm=\"ODE\")"
   ]
  },
  {
   "cell_type": "code",
   "execution_count": null,
   "metadata": {},
   "outputs": [],
   "source": [
    "fig, (ax1, ax2) = plt.subplots(1, 2, figsize=(7, 4))\n",
    "deviation = {key: np.sqrt(concentrations[1][key] - concentrations[0][key]**2) for key in concentrations[0]}\n",
    "observables = [\"S1\", \"S2\"]\n",
    "observables_alt = [\"$S_0$\", \"$S_1$\", \"$S_2$\"]\n",
    "colors = plt.rcParams['axes.prop_cycle'].by_key()['color']\n",
    "for i, (o, o_alt) in enumerate(zip(observables, observables_alt)):\n",
    "    ax1.plot(t, concentrations[0][o], '-', label=o_alt, color=colors[i], alpha=0.7)\n",
    "    ax1.fill_between(t, concentrations[0][o]-deviation[o], concentrations[0][o]+deviation[o], color=colors[i], alpha=.2)\n",
    "    ax1.plot(concentrations_ode.data[0][\"time\"], concentrations_ode.data[0][o], '--', color=colors[i], alpha=1.0)\n",
    "ax1.set_ylabel(\"$\\langle x_i(t) \\\\rangle$\")\n",
    "ax1.set_ylim([0.0, 20.0])\n",
    "\n",
    "observables = [\"S3\", \"S4\", \"S5\"]\n",
    "observables_alt = [\"$S_2$\", \"$S_3$\", \"$S_4$\"]\n",
    "for idx_o, (o, o_alt) in enumerate(zip(observables, observables_alt)):\n",
    "    i = idx_o + 2\n",
    "    ax2.plot(t, concentrations[0][o], '-', label=o_alt, color=colors[i], alpha=0.7)\n",
    "    ax2.fill_between(t, concentrations[0][o]-deviation[o], concentrations[0][o]+deviation[o], color=colors[i], alpha=.2)\n",
    "    ax2.plot(concentrations_ode.data[0][\"time\"], concentrations_ode.data[0][o], '--', color=colors[i], alpha=1.0)\n",
    "ax2.set_ylabel(\"$\\langle x_i(t) \\\\rangle$\")\n",
    "ax2.set_ylim([0, 2.5])\n",
    "ax2.yaxis.tick_right()\n",
    "ax2.yaxis.set_ticks_position(\"both\")\n",
    "ax2.yaxis.set_label_position(\"right\")\n",
    "plt.setp((ax1, ax2), xlabel=\"$t$\", xlim=[0.0, 10.0], xticks=[0.0, 2.5, 5.0, 7.5, 10.0]);\n",
    "\n",
    "lines_labels = [ax.get_legend_handles_labels() for ax in fig.axes]\n",
    "lines, labels = [sum(ll, []) for ll in zip(*lines_labels)]\n",
    "fig.legend(lines, labels, ncols=5, loc=\"upper center\")\n",
    "\n",
    "plt.savefig(\"plots/lambda_phage_concentrations.pdf\");"
   ]
  },
  {
   "cell_type": "code",
   "execution_count": null,
   "metadata": {},
   "outputs": [],
   "source": [
    "fig, ax = plt.subplots(figsize=(6, 4), layout='constrained')\n",
    "observables = [\"S1\", \"S2\", \"S3\", \"S4\", \"S5\"]\n",
    "for i, o in enumerate(observables):\n",
    "    ax.plot(t, np.abs((concentrations[0][o]-concentrations_ode.data[0][o])), '-', label=\"$S_{{{}}}$\".format(i))\n",
    "ax.set_xlabel(\"$t$\")\n",
    "ax.set_ylabel(\"$|c_i^\\mathrm{{CME}}(t) - c_i^\\mathrm{{ODE}}(t)|$\");\n",
    "fig.legend(*ax.get_legend_handles_labels(), loc=\"outside center right\")\n",
    "\n",
    "plt.savefig(\"plots/lambda_phage_concentrations_err.pdf\");"
   ]
  },
  {
   "cell_type": "markdown",
   "metadata": {},
   "source": [
    "## Error depending on rank and partition"
   ]
  },
  {
   "cell_type": "markdown",
   "metadata": {},
   "source": [
    "### Load data"
   ]
  },
  {
   "cell_type": "markdown",
   "metadata": {},
   "source": [
    "#### Partition 0"
   ]
  },
  {
   "cell_type": "code",
   "execution_count": 62,
   "metadata": {},
   "outputs": [],
   "source": [
    "time_series = TimeSeries(\"output/lambda_phage_p0_r5-3_e_tau1e-3\")\n",
    "P = time_series.calculateFullDistribution()\n",
    "err_00 = np.linalg.norm(P - P_exact, axis=1, ord=None)\n",
    "\n",
    "time_series = TimeSeries(\"output/lambda_phage_p0_r5-4_e_tau1e-3\")\n",
    "P = time_series.calculateFullDistribution()\n",
    "err_10 = np.linalg.norm(P - P_exact, axis=1, ord=None)\n",
    "\n",
    "time_series = TimeSeries(\"output/lambda_phage_p0_r5-5_e_tau1e-3\")\n",
    "P = time_series.calculateFullDistribution()\n",
    "err_20 = np.linalg.norm(P - P_exact, axis=1, ord=None)\n",
    "\n",
    "time_series = TimeSeries(\"output/lambda_phage_p0_r6-6_e_tau1e-3\")\n",
    "P = time_series.calculateFullDistribution()\n",
    "err_30 = np.linalg.norm(P - P_exact, axis=1, ord=None)"
   ]
  },
  {
   "cell_type": "markdown",
   "metadata": {},
   "source": [
    "#### Partition 1"
   ]
  },
  {
   "cell_type": "code",
   "execution_count": 63,
   "metadata": {},
   "outputs": [],
   "source": [
    "time_series = TimeSeries(\"output/lambda_phage_p1_r5-3_e_tau1e-3\")\n",
    "P = time_series.calculateFullDistribution()\n",
    "err_01 = np.linalg.norm(P - P_exact, axis=1, ord=None)\n",
    "\n",
    "time_series = TimeSeries(\"output/lambda_phage_p1_r5-4_e_tau1e-3\")\n",
    "P = time_series.calculateFullDistribution()\n",
    "err_11 = np.linalg.norm(P - P_exact, axis=1, ord=None)\n",
    "\n",
    "time_series = TimeSeries(\"output/lambda_phage_p1_r5-5_e_tau1e-3\")\n",
    "P = time_series.calculateFullDistribution()\n",
    "err_21 = np.linalg.norm(P - P_exact, axis=1, ord=None)\n",
    "\n",
    "time_series = TimeSeries(\"output/lambda_phage_p1_r6-6_e_tau1e-3\")\n",
    "P = time_series.calculateFullDistribution()\n",
    "err_31 = np.linalg.norm(P - P_exact, axis=1, ord=None)"
   ]
  },
  {
   "cell_type": "markdown",
   "metadata": {},
   "source": [
    "#### Partition 2"
   ]
  },
  {
   "cell_type": "code",
   "execution_count": 64,
   "metadata": {},
   "outputs": [],
   "source": [
    "time_series = TimeSeries(\"output/lambda_phage_p2_r5-3_e_tau1e-3\")\n",
    "P = time_series.calculateFullDistribution()\n",
    "err_02 = np.linalg.norm(P - P_exact, axis=1, ord=None)\n",
    "\n",
    "time_series = TimeSeries(\"output/lambda_phage_p2_r5-4_e_tau1e-3\")\n",
    "P = time_series.calculateFullDistribution()\n",
    "err_12 = np.linalg.norm(P - P_exact, axis=1, ord=None)\n",
    "\n",
    "time_series = TimeSeries(\"output/lambda_phage_p2_r5-5_e_tau1e-3\")\n",
    "P = time_series.calculateFullDistribution()\n",
    "err_22 = np.linalg.norm(P - P_exact, axis=1, ord=None)\n",
    "\n",
    "time_series = TimeSeries(\"output/lambda_phage_p2_r6-6_e_tau1e-3\")\n",
    "P = time_series.calculateFullDistribution()\n",
    "err_32 = np.linalg.norm(P - P_exact, axis=1, ord=None)"
   ]
  },
  {
   "cell_type": "markdown",
   "metadata": {},
   "source": [
    "### Plot"
   ]
  },
  {
   "cell_type": "code",
   "execution_count": null,
   "metadata": {},
   "outputs": [],
   "source": [
    "fig, axs = plt.subplots(2, 2, figsize=(6, 5))\n",
    "\n",
    "axs[0, 0].plot(time[1:], err_00[1:], '.-', label=\"$\\mathcal{{P}}_0$\")\n",
    "axs[0, 0].plot(time[1:], err_01[1:], '.-', label=\"$\\mathcal{{P}}_1$\")\n",
    "axs[0, 0].plot(time[1:], err_02[1:], '.-', label=\"$\\mathcal{{P}}_2$\")\n",
    "axs[0, 0].set_title(\"$r = (5, 3)$\")\n",
    "\n",
    "axs[0, 1].plot(time[1:], err_10[1:], '.-')\n",
    "axs[0, 1].plot(time[1:], err_11[1:], '.-')\n",
    "axs[0, 1].plot(time[1:], err_12[1:], '.-')\n",
    "axs[0, 1].set_title(\"$r = (5, 4)$\")\n",
    "axs[0, 1].yaxis.tick_right()\n",
    "axs[0, 1].yaxis.set_ticks_position(\"both\")\n",
    "axs[0, 1].yaxis.set_label_position(\"right\")\n",
    "\n",
    "axs[1, 0].plot(time[1:], err_20[1:], '.-')\n",
    "axs[1, 0].plot(time[1:], err_21[1:], '.-')\n",
    "axs[1, 0].plot(time[1:], err_22[1:], '.-')\n",
    "axs[1, 0].set_title(\"$r = (5, 5)$\")\n",
    "\n",
    "axs[1, 1].plot(time[1:], err_30[1:], '.-')\n",
    "axs[1, 1].plot(time[1:], err_31[1:], '.-')\n",
    "axs[1, 1].plot(time[1:], err_32[1:], '.-')\n",
    "axs[1, 1].set_title(\"$r = (6, 6)$\")\n",
    "axs[1, 1].yaxis.tick_right()\n",
    "axs[1, 1].yaxis.set_ticks_position(\"both\")\n",
    "axs[1, 1].yaxis.set_label_position(\"right\")\n",
    "\n",
    "plt.setp(axs, xlabel=\"$t$\", xticks=[1.0, 4.0, 7.0, 10.0], ylim=[3e-4, 2e-2], yscale=\"log\")\n",
    "plt.subplots_adjust(hspace=0.4)\n",
    "fig.suptitle(\"$\\Vert P^\\mathrm{{TTN}}(t,\\mathbf{{x}})-P^\\mathrm{{ref}}(t,\\mathbf{{x}}) \\Vert$\", fontsize=14, y=1.03)\n",
    "fig.legend(*axs[0, 0].get_legend_handles_labels(), ncols=3, loc=\"center\", bbox_to_anchor=(0.5, 0.93))\n",
    "plt.tight_layout()\n",
    "plt.savefig(\"plots/lambda_phage_err_comparison_ttn_alt.pdf\", bbox_inches=\"tight\");"
   ]
  },
  {
   "cell_type": "markdown",
   "metadata": {},
   "source": [
    "## Mass error"
   ]
  },
  {
   "cell_type": "markdown",
   "metadata": {},
   "source": [
    "### Load data"
   ]
  },
  {
   "cell_type": "markdown",
   "metadata": {},
   "source": [
    "#### Partition 0"
   ]
  },
  {
   "cell_type": "code",
   "execution_count": 66,
   "metadata": {},
   "outputs": [],
   "source": [
    "time_series = TimeSeries(\"output/lambda_phage_p0_r5-3_e_tau1e-3\")\n",
    "mass_err00 = np.abs(time_series.getMassErr())\n",
    "time = time_series.time\n",
    "\n",
    "time_series = TimeSeries(\"output/lambda_phage_p0_r5-4_e_tau1e-3\")\n",
    "mass_err10 = np.abs(time_series.getMassErr())\n",
    "\n",
    "time_series = TimeSeries(\"output/lambda_phage_p0_r5-5_e_tau1e-3\")\n",
    "mass_err20 = np.abs(time_series.getMassErr())\n",
    "\n",
    "time_series = TimeSeries(\"output/lambda_phage_p0_r6-6_e_tau1e-3\")\n",
    "mass_err30 = np.abs(time_series.getMassErr())"
   ]
  },
  {
   "cell_type": "markdown",
   "metadata": {},
   "source": [
    "#### Partition 1"
   ]
  },
  {
   "cell_type": "code",
   "execution_count": 67,
   "metadata": {},
   "outputs": [],
   "source": [
    "time_series = TimeSeries(\"output/lambda_phage_p1_r5-3_e_tau1e-3\")\n",
    "mass_err01 = np.abs(time_series.getMassErr())\n",
    "\n",
    "time_series = TimeSeries(\"output/lambda_phage_p1_r5-4_e_tau1e-3\")\n",
    "mass_err11 = np.abs(time_series.getMassErr())\n",
    "\n",
    "time_series = TimeSeries(\"output/lambda_phage_p1_r5-5_e_tau1e-3\")\n",
    "mass_err21 = np.abs(time_series.getMassErr())\n",
    "\n",
    "time_series = TimeSeries(\"output/lambda_phage_p1_r6-6_e_tau1e-3\")\n",
    "mass_err31 = np.abs(time_series.getMassErr())"
   ]
  },
  {
   "cell_type": "markdown",
   "metadata": {},
   "source": [
    "#### Partition 2"
   ]
  },
  {
   "cell_type": "code",
   "execution_count": 68,
   "metadata": {},
   "outputs": [],
   "source": [
    "time_series = TimeSeries(\"output/lambda_phage_p2_r5-3_e_tau1e-3\")\n",
    "mass_err02 = np.abs(time_series.getMassErr())\n",
    "\n",
    "time_series = TimeSeries(\"output/lambda_phage_p2_r5-4_e_tau1e-3\")\n",
    "mass_err12 = np.abs(time_series.getMassErr())\n",
    "\n",
    "time_series = TimeSeries(\"output/lambda_phage_p2_r5-5_e_tau1e-3\")\n",
    "mass_err22 = np.abs(time_series.getMassErr())\n",
    "\n",
    "time_series = TimeSeries(\"output/lambda_phage_p2_r6-6_e_tau1e-3\")\n",
    "mass_err32 = np.abs(time_series.getMassErr())"
   ]
  },
  {
   "cell_type": "markdown",
   "metadata": {},
   "source": [
    "### Plot"
   ]
  },
  {
   "cell_type": "code",
   "execution_count": null,
   "metadata": {},
   "outputs": [],
   "source": [
    "fig, axs = plt.subplots(2, 2, figsize=(7, 6))\n",
    "\n",
    "axs[0, 0].plot(time[1:], mass_err00[1:], \".-\", label=\"$\\mathcal{{P}}_0$\")\n",
    "axs[0, 0].plot(time[1:], mass_err01[1:], \".-\", label=\"$\\mathcal{{P}}_1$\")\n",
    "axs[0, 0].plot(time[1:], mass_err02[1:], \".-\", label=\"$\\mathcal{{P}}_2$\")\n",
    "axs[0, 0].set_title(\"$r = (5, 3)$\")\n",
    "\n",
    "axs[0, 1].plot(time[1:], mass_err10[1:], \".-\")\n",
    "axs[0, 1].plot(time[1:], mass_err11[1:], \".-\")\n",
    "axs[0, 1].plot(time[1:], mass_err12[1:], \".-\")\n",
    "axs[0, 1].set_title(\"$r = (5, 4)$\")\n",
    "axs[0, 1].yaxis.tick_right()\n",
    "axs[0, 1].yaxis.set_ticks_position(\"both\")\n",
    "axs[0, 1].yaxis.set_label_position(\"right\")\n",
    "\n",
    "axs[1, 0].plot(time[1:], mass_err20[1:], \".-\")\n",
    "axs[1, 0].plot(time[1:], mass_err21[1:], \".-\")\n",
    "axs[1, 0].plot(time[1:], mass_err22[1:], \".-\")\n",
    "axs[1, 0].set_title(\"$r = (5, 5)$\")\n",
    "\n",
    "axs[1, 1].plot(time[1:], mass_err30[1:], \".-\")\n",
    "axs[1, 1].plot(time[1:], mass_err31[1:], \".-\")\n",
    "axs[1, 1].plot(time[1:], mass_err32[1:], \".-\")\n",
    "axs[1, 1].set_title(\"$r = (6, 6)$\")\n",
    "axs[1, 1].yaxis.tick_right()\n",
    "axs[1, 1].yaxis.set_ticks_position(\"both\")\n",
    "axs[1, 1].yaxis.set_label_position(\"right\")\n",
    "\n",
    "plt.setp(axs, xlabel=\"$t$\", xticks=[1.0, 4.0, 7.0, 10.0], ylim=[3e-8, 5e-5], yscale=\"log\")\n",
    "plt.subplots_adjust(hspace=0.5)\n",
    "fig.suptitle(\"$|\\Delta m(t)|$\", fontsize=16, y=1.05)\n",
    "fig.legend(*axs[0, 0].get_legend_handles_labels(), ncols=3, loc=\"center\", bbox_to_anchor=(0.5, 0.95))\n",
    "plt.tight_layout()\n",
    "plt.savefig(\"plots/lambda_phage_mass_err_comparison_ttn.pdf\");"
   ]
  },
  {
   "cell_type": "code",
   "execution_count": null,
   "metadata": {},
   "outputs": [],
   "source": [
    "fig, ax = plt.subplots()\n",
    "ax.plot(time[1:], mass_err01[1:], \".-\", label=\"$r = (5, 3)$\")\n",
    "ax.plot(time[1:], mass_err11[1:], \".-\", label=\"$r = (5, 4)$\")\n",
    "ax.plot(time[1:], mass_err21[1:], \".-\", label=\"$r = (5, 5)$\")\n",
    "ax.plot(time[1:], mass_err31[1:], \".-\", label=\"$r = (6, 6)$\")\n",
    "ax.legend()\n",
    "ax.ticklabel_format(style='sci', axis='y', scilimits=(-2,2))\n",
    "plt.setp(ax, xlabel=\"$t$\", ylabel=\"$|\\Delta m(t)|$\", xticks=[1.0, 4.0, 7.0, 10.0])\n",
    "plt.savefig(\"plots/lambda_phage_mass_err_comparison_ttn_rank.pdf\");"
   ]
  },
  {
   "cell_type": "markdown",
   "metadata": {},
   "source": [
    "## Wall time"
   ]
  },
  {
   "cell_type": "markdown",
   "metadata": {},
   "source": [
    "### Load data"
   ]
  },
  {
   "cell_type": "markdown",
   "metadata": {},
   "source": [
    "#### Partition 0"
   ]
  },
  {
   "cell_type": "code",
   "execution_count": 71,
   "metadata": {},
   "outputs": [],
   "source": [
    "time_series = TimeSeries(\"output/lambda_phage_p0_r5-3_e_tau1e-3\")\n",
    "walltime00 = time_series.getWallTime()\n",
    "\n",
    "time_series = TimeSeries(\"output/lambda_phage_p0_r5-4_e_tau1e-3\")\n",
    "walltime10 = time_series.getWallTime()\n",
    "\n",
    "time_series = TimeSeries(\"output/lambda_phage_p0_r5-5_e_tau1e-3\")\n",
    "walltime20 = time_series.getWallTime()\n",
    "\n",
    "time_series = TimeSeries(\"output/lambda_phage_p0_r6-6_e_tau1e-3\")\n",
    "walltime30 = time_series.getWallTime()"
   ]
  },
  {
   "cell_type": "markdown",
   "metadata": {},
   "source": [
    "#### Partition 1"
   ]
  },
  {
   "cell_type": "code",
   "execution_count": 72,
   "metadata": {},
   "outputs": [],
   "source": [
    "time_series = TimeSeries(\"output/lambda_phage_p1_r5-3_e_tau1e-3\")\n",
    "walltime01 = time_series.getWallTime()\n",
    "\n",
    "time_series = TimeSeries(\"output/lambda_phage_p1_r5-4_e_tau1e-3\")\n",
    "walltime11 = time_series.getWallTime()\n",
    "\n",
    "time_series = TimeSeries(\"output/lambda_phage_p1_r5-5_e_tau1e-3\")\n",
    "walltime21 = time_series.getWallTime()\n",
    "\n",
    "time_series = TimeSeries(\"output/lambda_phage_p1_r6-6_e_tau1e-3\")\n",
    "walltime31 = time_series.getWallTime()"
   ]
  },
  {
   "cell_type": "markdown",
   "metadata": {},
   "source": [
    "#### Partition 2"
   ]
  },
  {
   "cell_type": "code",
   "execution_count": 73,
   "metadata": {},
   "outputs": [],
   "source": [
    "time_series = TimeSeries(\"output/lambda_phage_p2_r5-3_e_tau1e-3\")\n",
    "walltime02 = time_series.getWallTime()\n",
    "\n",
    "time_series = TimeSeries(\"output/lambda_phage_p2_r5-4_e_tau1e-3\")\n",
    "walltime12 = time_series.getWallTime()\n",
    "\n",
    "time_series = TimeSeries(\"output/lambda_phage_p2_r5-5_e_tau1e-3\")\n",
    "walltime22 = time_series.getWallTime()\n",
    "\n",
    "time_series = TimeSeries(\"output/lambda_phage_p2_r6-6_e_tau1e-3\")\n",
    "walltime32 = time_series.getWallTime()"
   ]
  },
  {
   "cell_type": "markdown",
   "metadata": {},
   "source": [
    "### Plot"
   ]
  },
  {
   "cell_type": "code",
   "execution_count": null,
   "metadata": {},
   "outputs": [],
   "source": [
    "fig, axs = plt.subplots(2, 2, figsize=(6, 4.5))\n",
    "labels = [\"$\\mathcal{{P}}_{}$\".format(i) for i in range(3)]\n",
    "colors = plt.rcParams['axes.prop_cycle'].by_key()['color']\n",
    "walltime0 = [walltime00, walltime01, walltime02]\n",
    "axs[0, 0].bar(labels, walltime0, color=colors)\n",
    "axs[0, 0].set_title(\"$r = (5, 3)$\")\n",
    "\n",
    "walltime1 = [walltime10, walltime11, walltime12]\n",
    "axs[0, 1].bar(labels, walltime1, color=colors)\n",
    "axs[0, 1].set_title(\"$r = (5, 4)$\")\n",
    "axs[0, 1].yaxis.tick_right()\n",
    "axs[0, 1].yaxis.set_ticks_position(\"both\")\n",
    "axs[0, 1].yaxis.set_label_position(\"right\")\n",
    "\n",
    "walltime2 = [walltime20, walltime21, walltime22]\n",
    "axs[1, 0].bar(labels, walltime2, color=colors)\n",
    "axs[1, 0].set_title(\"$r = (5, 5)$\")\n",
    "\n",
    "walltime3 = [walltime30, walltime31, walltime32]\n",
    "axs[1, 1].bar(labels, walltime3, color=colors)\n",
    "axs[1, 1].set_title(\"$r = (6, 6)$\")\n",
    "axs[1, 1].yaxis.tick_right()\n",
    "axs[1, 1].yaxis.set_ticks_position(\"both\")\n",
    "axs[1, 1].yaxis.set_label_position(\"right\")\n",
    "\n",
    "plt.subplots_adjust(wspace=0.06, hspace=0.5)\n",
    "fig.suptitle(\"wall time [$\\mathrm{s}$]\", fontsize=16)\n",
    "\n",
    "plt.savefig(\"plots/lambda_phage_wall_time_comparison_ttn.pdf\", bbox_inches=\"tight\");"
   ]
  },
  {
   "cell_type": "markdown",
   "metadata": {},
   "source": [
    "## Memory requirements"
   ]
  },
  {
   "cell_type": "code",
   "execution_count": 75,
   "metadata": {},
   "outputs": [],
   "source": [
    "def memoryRequirementsP0(rank):\n",
    "    x0 = rank[0] * 656\n",
    "    x10 = rank[1] * 121\n",
    "    x11 = rank[1] * 11\n",
    "    q = 1 * rank[0] ** 2\n",
    "    q1 = rank[0] * rank[1] ** 2\n",
    "    return (x0 + x10 + x11 + q + q1) * 8 * 1e-3\n",
    "\n",
    "def memoryRequirementsP1(rank):\n",
    "    x00 = rank[1] * 656\n",
    "    x01 = rank[1] * 121\n",
    "    x1 = rank[0] * 11\n",
    "    q = 1 * rank[0] ** 2\n",
    "    q0 = rank[0] * rank[1] ** 2\n",
    "    return (x00 + x01 + x1 + q + q0) * 8 * 1e-3\n",
    "\n",
    "def memoryRequirementsP2(rank):\n",
    "    x00 = rank[1] * 656\n",
    "    x01 = rank[1] * 11\n",
    "    x1 = rank[0] * 121\n",
    "    q = 1 * rank[0] ** 2\n",
    "    q0 = rank[0] * rank[1] ** 2\n",
    "    return (x00 + x01 + x1 + q + q0) * 8 * 1e-3\n",
    "\n",
    "def memoryRequirementsPfull(rank):\n",
    "    x0 = rank[0] * 656\n",
    "    x1 = rank[0] * 1331\n",
    "    q = 1 * rank[0] ** 2\n",
    "    return (x0 + x1 + q) * 8 * 1e-3"
   ]
  },
  {
   "cell_type": "code",
   "execution_count": null,
   "metadata": {},
   "outputs": [],
   "source": [
    "rank = [5, 3]\n",
    "fig, axs = plt.subplots(2, 2, figsize=(6, 4))\n",
    "labels = [\"$\\mathcal{{P}}_{}$\".format(i) for i in range(3)]\n",
    "colors = plt.rcParams['axes.prop_cycle'].by_key()['color']\n",
    "memory_req = [memoryRequirementsP0(rank), memoryRequirementsP1(rank), memoryRequirementsP2(rank)]\n",
    "axs[0, 0].bar(labels, memory_req, color=colors)\n",
    "axs[0, 0].set_title(\"$r = (5, 3)$\")\n",
    "\n",
    "rank = [5, 4]\n",
    "memory_req = [memoryRequirementsP0(rank), memoryRequirementsP1(rank), memoryRequirementsP2(rank)]\n",
    "axs[0, 1].bar(labels, memory_req, color=colors)\n",
    "axs[0, 1].set_title(\"$r = (5, 4)$\")\n",
    "axs[0, 1].yaxis.tick_right()\n",
    "axs[0, 1].yaxis.set_ticks_position(\"both\")\n",
    "axs[0, 1].yaxis.set_label_position(\"right\")\n",
    "\n",
    "rank = [5, 5]\n",
    "memory_req = [memoryRequirementsP0(rank), memoryRequirementsP1(rank), memoryRequirementsP2(rank)]\n",
    "axs[1, 0].bar(labels, memory_req, color=colors)\n",
    "axs[1, 0].set_title(\"$r = (5, 5)$\")\n",
    "\n",
    "rank = [6, 6]\n",
    "memory_req = [memoryRequirementsP0(rank), memoryRequirementsP1(rank), memoryRequirementsP2(rank)]\n",
    "\n",
    "axs[1, 1].bar(labels, memory_req, color=colors)\n",
    "axs[1, 1].set_title(\"$r = (6, 6)$\")\n",
    "axs[1, 1].yaxis.tick_right()\n",
    "axs[1, 1].yaxis.set_ticks_position(\"both\")\n",
    "axs[1, 1].yaxis.set_label_position(\"right\")\n",
    "\n",
    "plt.subplots_adjust(hspace=0.5)\n",
    "fig.suptitle(\"memory [$\\mathrm{kB}$]\", fontsize=16)\n",
    "\n",
    "plt.savefig(\"plots/lambda_phage_memory_comparison_ttn.pdf\");"
   ]
  }
 ],
 "metadata": {
  "kernelspec": {
   "display_name": "base",
   "language": "python",
   "name": "python3"
  },
  "language_info": {
   "codemirror_mode": {
    "name": "ipython",
    "version": 3
   },
   "file_extension": ".py",
   "mimetype": "text/x-python",
   "name": "python",
   "nbconvert_exporter": "python",
   "pygments_lexer": "ipython3",
   "version": "3.10.14"
  }
 },
 "nbformat": 4,
 "nbformat_minor": 2
}
